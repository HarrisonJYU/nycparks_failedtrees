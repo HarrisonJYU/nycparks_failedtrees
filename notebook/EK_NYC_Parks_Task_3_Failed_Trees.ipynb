{
  "nbformat": 4,
  "nbformat_minor": 5,
  "metadata": {
    "kernelspec": {
      "display_name": "Python [conda env:geo]",
      "language": "python",
      "name": "conda-env-geo-py"
    },
    "language_info": {
      "codemirror_mode": {
        "name": "ipython",
        "version": 3
      },
      "file_extension": ".py",
      "mimetype": "text/x-python",
      "name": "python",
      "nbconvert_exporter": "python",
      "pygments_lexer": "ipython3",
      "version": "3.9.4"
    },
    "colab": {
      "name": "EK_NYC Parks Task 3 Failed Trees.ipynb",
      "provenance": [],
      "collapsed_sections": [],
      "include_colab_link": true
    }
  },
  "cells": [
    {
      "cell_type": "markdown",
      "metadata": {
        "id": "view-in-github",
        "colab_type": "text"
      },
      "source": [
        "<a href=\"https://colab.research.google.com/github/HarrisonJYU/nycparks_failedtrees/blob/working/notebook/EK_NYC_Parks_Task_3_Failed_Trees.ipynb\" target=\"_parent\"><img src=\"https://colab.research.google.com/assets/colab-badge.svg\" alt=\"Open In Colab\"/></a>"
      ]
    },
    {
      "cell_type": "code",
      "metadata": {
        "id": "cbd00ddd-2ede-46ea-8475-acf4bd4a51b9",
        "colab": {
          "base_uri": "https://localhost:8080/"
        },
        "outputId": "2267ad41-38b3-4b66-80ae-a09fb38c72be"
      },
      "source": [
        "! pip install pandas\n",
        "import pandas as pd\n",
        "import matplotlib.pyplot as plt\n",
        "import seaborn as sns"
      ],
      "id": "cbd00ddd-2ede-46ea-8475-acf4bd4a51b9",
      "execution_count": null,
      "outputs": [
        {
          "output_type": "stream",
          "name": "stdout",
          "text": [
            "Requirement already satisfied: pandas in /usr/local/lib/python3.7/dist-packages (1.1.5)\n",
            "Requirement already satisfied: numpy>=1.15.4 in /usr/local/lib/python3.7/dist-packages (from pandas) (1.19.5)\n",
            "Requirement already satisfied: python-dateutil>=2.7.3 in /usr/local/lib/python3.7/dist-packages (from pandas) (2.8.2)\n",
            "Requirement already satisfied: pytz>=2017.2 in /usr/local/lib/python3.7/dist-packages (from pandas) (2018.9)\n",
            "Requirement already satisfied: six>=1.5 in /usr/local/lib/python3.7/dist-packages (from python-dateutil>=2.7.3->pandas) (1.15.0)\n"
          ]
        }
      ]
    },
    {
      "cell_type": "code",
      "metadata": {
        "id": "e760caa2-a9d2-4f02-a0e4-51c3128d35ad",
        "colab": {
          "base_uri": "https://localhost:8080/",
          "height": 17
        },
        "outputId": "1779953c-6a22-46d1-9cc4-1c2dafc27af3"
      },
      "source": [
        "%%html\n",
        "<style>\n",
        ".dataframe td {\n",
        "    white-space: nowrap;\n",
        "}\n",
        "</style>"
      ],
      "id": "e760caa2-a9d2-4f02-a0e4-51c3128d35ad",
      "execution_count": null,
      "outputs": [
        {
          "output_type": "display_data",
          "data": {
            "text/html": [
              "<style>\n",
              ".dataframe td {\n",
              "    white-space: nowrap;\n",
              "}\n",
              "</style>"
            ],
            "text/plain": [
              "<IPython.core.display.HTML object>"
            ]
          },
          "metadata": {}
        }
      ]
    },
    {
      "cell_type": "code",
      "metadata": {
        "colab": {
          "base_uri": "https://localhost:8080/"
        },
        "id": "6R71IwZrKLsu",
        "outputId": "c03ead53-f3a6-404b-a5b8-09c8c666d629"
      },
      "source": [
        "from google.colab import drive\n",
        "drive.mount('/content/drive')"
      ],
      "id": "6R71IwZrKLsu",
      "execution_count": null,
      "outputs": [
        {
          "output_type": "stream",
          "name": "stdout",
          "text": [
            "Mounted at /content/drive\n"
          ]
        }
      ]
    },
    {
      "cell_type": "code",
      "metadata": {
        "id": "2f77e4ac-ad59-4d6c-a182-4484b1bb32f2"
      },
      "source": [
        "df_failedtrees = pd.read_csv('/content/drive/My Drive/nyc-parks-data/data/FailedTrees_20210621.csv')\n",
        "df_riskassessments=pd.read_csv('/content/drive/My Drive/nyc-parks-data/data/FailedTrees_RiskAssessments_20210621.csv')\n",
        "df_workhistory=pd.read_csv('/content/drive/My Drive/nyc-parks-data/data/FailedTrees_WorkHistory_20210621.csv', encoding='unicode_escape')\n"
      ],
      "id": "2f77e4ac-ad59-4d6c-a182-4484b1bb32f2",
      "execution_count": null,
      "outputs": []
    },
    {
      "cell_type": "code",
      "metadata": {
        "id": "f62e98b5-3d61-431e-83e0-571764105bc2",
        "colab": {
          "base_uri": "https://localhost:8080/"
        },
        "outputId": "10cca171-ba77-40a2-ff8e-6a2c9a93d63f"
      },
      "source": [
        "df_failedtrees.shape"
      ],
      "id": "f62e98b5-3d61-431e-83e0-571764105bc2",
      "execution_count": null,
      "outputs": [
        {
          "output_type": "execute_result",
          "data": {
            "text/plain": [
              "(9612, 41)"
            ]
          },
          "metadata": {},
          "execution_count": 6
        }
      ]
    },
    {
      "cell_type": "code",
      "metadata": {
        "id": "89b6cc61-2ba5-467b-aca9-210d88b9b83f",
        "colab": {
          "base_uri": "https://localhost:8080/",
          "height": 434
        },
        "outputId": "c0225230-a4e8-4b33-ace9-0e336aa90e53"
      },
      "source": [
        "df_failedtrees.head()"
      ],
      "id": "89b6cc61-2ba5-467b-aca9-210d88b9b83f",
      "execution_count": null,
      "outputs": [
        {
          "output_type": "execute_result",
          "data": {
            "text/html": [
              "<div>\n",
              "<style scoped>\n",
              "    .dataframe tbody tr th:only-of-type {\n",
              "        vertical-align: middle;\n",
              "    }\n",
              "\n",
              "    .dataframe tbody tr th {\n",
              "        vertical-align: top;\n",
              "    }\n",
              "\n",
              "    .dataframe thead th {\n",
              "        text-align: right;\n",
              "    }\n",
              "</style>\n",
              "<table border=\"1\" class=\"dataframe\">\n",
              "  <thead>\n",
              "    <tr style=\"text-align: right;\">\n",
              "      <th></th>\n",
              "      <th>Tree_GlobalID</th>\n",
              "      <th>Tree_CreatedDate</th>\n",
              "      <th>Tree_Species</th>\n",
              "      <th>PostFail_SR_GlobalID</th>\n",
              "      <th>PostFail_SR_Type</th>\n",
              "      <th>PostFail_SR_Source</th>\n",
              "      <th>PostFail_SR_ResolutionAction</th>\n",
              "      <th>PostFail_SR_CreatedDate</th>\n",
              "      <th>PostFail_SR_CreatedYear</th>\n",
              "      <th>PostFail_SR_ClosedDate</th>\n",
              "      <th>NumberOfDuplicateSRs</th>\n",
              "      <th>PostFail_INSP_GlobalID</th>\n",
              "      <th>PostFail_INSP_InspectionDate</th>\n",
              "      <th>PostFail_INSP_Type</th>\n",
              "      <th>PostFail_INSP_Status</th>\n",
              "      <th>PostFail_INSP_Condition</th>\n",
              "      <th>PostFail_INSP_DBH</th>\n",
              "      <th>PostFail_INSP_Structure</th>\n",
              "      <th>PostFail_INSP_TRM</th>\n",
              "      <th>PostFail_WO_GlobalID</th>\n",
              "      <th>PostFail_WO_Type</th>\n",
              "      <th>DaysSinceInspection</th>\n",
              "      <th>PreFail_INSP_GlobalID</th>\n",
              "      <th>PreFail_INSP_InspectionDate</th>\n",
              "      <th>PreFail_INSP_Type</th>\n",
              "      <th>PreFail_INSP_Status</th>\n",
              "      <th>PreFail_INSP_Condition</th>\n",
              "      <th>PreFail_INSP_DBH</th>\n",
              "      <th>PreFail_INSP_Structure</th>\n",
              "      <th>PreFail_INSP_Rating</th>\n",
              "      <th>PreFail_INSP_TRM</th>\n",
              "      <th>Borough</th>\n",
              "      <th>CommunityBoard</th>\n",
              "      <th>CityCouncil</th>\n",
              "      <th>BuildingNumber</th>\n",
              "      <th>StreetName</th>\n",
              "      <th>TreeLocation</th>\n",
              "      <th>Shape</th>\n",
              "      <th>X_Coord</th>\n",
              "      <th>Y_Coord</th>\n",
              "      <th>FailedDuringStorm</th>\n",
              "    </tr>\n",
              "  </thead>\n",
              "  <tbody>\n",
              "    <tr>\n",
              "      <th>0</th>\n",
              "      <td>37195E1A-A7EE-4AA4-8389-19A0ED5C46F7</td>\n",
              "      <td>3/3/2015 5:00 AM</td>\n",
              "      <td>Fraxinus pennsylvanica - Green ash</td>\n",
              "      <td>3E4FEC6D-8178-4B69-B27D-5ED8DA5924E5</td>\n",
              "      <td>Tree Down - Street</td>\n",
              "      <td>3-1-1 Call Center</td>\n",
              "      <td>Work Completed</td>\n",
              "      <td>3/3/2015 5:00 AM</td>\n",
              "      <td>2015.0</td>\n",
              "      <td>3/3/2015 5:00 AM</td>\n",
              "      <td>0.0</td>\n",
              "      <td>E340A03F-0BCA-4901-9664-F75FB4F17EB0</td>\n",
              "      <td>3/2/2015 5:00 AM</td>\n",
              "      <td>Level 1</td>\n",
              "      <td>Closed</td>\n",
              "      <td>Good</td>\n",
              "      <td>10.0</td>\n",
              "      <td>Full</td>\n",
              "      <td>No</td>\n",
              "      <td>084427D3-D35D-4B23-81AD-F0DD8D235596</td>\n",
              "      <td>Tree Down</td>\n",
              "      <td>NaN</td>\n",
              "      <td>NaN</td>\n",
              "      <td>NaN</td>\n",
              "      <td>NaN</td>\n",
              "      <td>NaN</td>\n",
              "      <td>NaN</td>\n",
              "      <td>NaN</td>\n",
              "      <td>NaN</td>\n",
              "      <td>NaN</td>\n",
              "      <td>No</td>\n",
              "      <td>Manhattan</td>\n",
              "      <td>110</td>\n",
              "      <td>9.0</td>\n",
              "      <td>10</td>\n",
              "      <td>WEST 135 STREET</td>\n",
              "      <td>Street</td>\n",
              "      <td>0xD7080000010C80894E9B7E8E2E4100B63630B2BE0C41</td>\n",
              "      <td>1.001279e+06</td>\n",
              "      <td>235478.2735</td>\n",
              "      <td>No</td>\n",
              "    </tr>\n",
              "    <tr>\n",
              "      <th>1</th>\n",
              "      <td>8717EC83-F165-495A-A1AA-1064173A681F</td>\n",
              "      <td>3/4/2015 5:00 AM</td>\n",
              "      <td>Zelkova serrata - Japanese zelkova</td>\n",
              "      <td>AE9E5D8E-DEF9-444A-B0A8-234462E7FC94</td>\n",
              "      <td>Tree Down - Sidewalk</td>\n",
              "      <td>3-1-1 Call Center</td>\n",
              "      <td>Work Completed</td>\n",
              "      <td>3/4/2015 5:00 AM</td>\n",
              "      <td>2015.0</td>\n",
              "      <td>3/4/2015 5:00 AM</td>\n",
              "      <td>0.0</td>\n",
              "      <td>FBDF1100-326D-494D-AA78-0E1626939B95</td>\n",
              "      <td>3/3/2015 5:00 AM</td>\n",
              "      <td>Level 2</td>\n",
              "      <td>Closed</td>\n",
              "      <td>Critical</td>\n",
              "      <td>12.0</td>\n",
              "      <td>Full</td>\n",
              "      <td>No</td>\n",
              "      <td>44B18003-FE79-4AC1-8F57-5C7724886057</td>\n",
              "      <td>Tree Down</td>\n",
              "      <td>NaN</td>\n",
              "      <td>NaN</td>\n",
              "      <td>NaN</td>\n",
              "      <td>NaN</td>\n",
              "      <td>NaN</td>\n",
              "      <td>NaN</td>\n",
              "      <td>NaN</td>\n",
              "      <td>NaN</td>\n",
              "      <td>NaN</td>\n",
              "      <td>No</td>\n",
              "      <td>Manhattan</td>\n",
              "      <td>107</td>\n",
              "      <td>7.0</td>\n",
              "      <td>808</td>\n",
              "      <td>COLUMBUS AV</td>\n",
              "      <td>Street</td>\n",
              "      <td>0xD7080000010C8060F2630E532E41003885CB93F30B41</td>\n",
              "      <td>9.936712e+05</td>\n",
              "      <td>228978.4744</td>\n",
              "      <td>No</td>\n",
              "    </tr>\n",
              "    <tr>\n",
              "      <th>2</th>\n",
              "      <td>F763D1C0-3020-434A-AD05-F61D69CEC648</td>\n",
              "      <td>3/8/2015 5:00 AM</td>\n",
              "      <td>Pyrus calleryana - Callery pear</td>\n",
              "      <td>0EBCBE65-0135-45B9-A7CB-0AB6FA4118A5</td>\n",
              "      <td>Tree Down - Sidewalk</td>\n",
              "      <td>Department of Parks and Recreation - Public We...</td>\n",
              "      <td>Work Completed</td>\n",
              "      <td>10/30/2017 3:08 PM</td>\n",
              "      <td>2017.0</td>\n",
              "      <td>11/1/2017 7:59 AM</td>\n",
              "      <td>2.0</td>\n",
              "      <td>429E0219-6229-49E5-8220-A04588A0F3CD</td>\n",
              "      <td>10/30/2017 4:00 AM</td>\n",
              "      <td>Level 2</td>\n",
              "      <td>Closed</td>\n",
              "      <td>Poor</td>\n",
              "      <td>10.0</td>\n",
              "      <td>Full</td>\n",
              "      <td>Yes</td>\n",
              "      <td>F6EE5379-9540-4A43-8473-351AA53858F8</td>\n",
              "      <td>Tree Down</td>\n",
              "      <td>791.0</td>\n",
              "      <td>32C71160-CA25-424A-99E6-99F539E3E050</td>\n",
              "      <td>8/31/2015 4:00 AM</td>\n",
              "      <td>Level 2</td>\n",
              "      <td>Closed</td>\n",
              "      <td>Poor</td>\n",
              "      <td>11.0</td>\n",
              "      <td>Full</td>\n",
              "      <td>NaN</td>\n",
              "      <td>No</td>\n",
              "      <td>Manhattan</td>\n",
              "      <td>104</td>\n",
              "      <td>3.0</td>\n",
              "      <td>340</td>\n",
              "      <td>WEST  50 STREET</td>\n",
              "      <td>Street</td>\n",
              "      <td>0xD7080000010C00C758020B242E41001800E035840A41</td>\n",
              "      <td>9.876535e+05</td>\n",
              "      <td>217222.7344</td>\n",
              "      <td>No</td>\n",
              "    </tr>\n",
              "    <tr>\n",
              "      <th>3</th>\n",
              "      <td>925EB161-3E0B-4F73-B45A-257B03DAF1E0</td>\n",
              "      <td>3/9/2015 4:00 AM</td>\n",
              "      <td>Pyrus calleryana - Callery pear</td>\n",
              "      <td>789317A7-7A63-4D99-B2A5-CAA00AA7403C</td>\n",
              "      <td>Limb Down - Other</td>\n",
              "      <td>3-1-1 Call Center</td>\n",
              "      <td>Work Completed</td>\n",
              "      <td>3/6/2015 5:00 AM</td>\n",
              "      <td>2015.0</td>\n",
              "      <td>3/8/2015 5:00 AM</td>\n",
              "      <td>0.0</td>\n",
              "      <td>2B3B1983-B80C-412A-9345-9D4BBF69600A</td>\n",
              "      <td>3/3/2015 5:00 AM</td>\n",
              "      <td>Level 1</td>\n",
              "      <td>Closed</td>\n",
              "      <td>Poor</td>\n",
              "      <td>4.0</td>\n",
              "      <td>Full</td>\n",
              "      <td>No</td>\n",
              "      <td>857D2135-81ED-42ED-A365-A5D9A4581E18</td>\n",
              "      <td>Tree Down</td>\n",
              "      <td>NaN</td>\n",
              "      <td>NaN</td>\n",
              "      <td>NaN</td>\n",
              "      <td>NaN</td>\n",
              "      <td>NaN</td>\n",
              "      <td>NaN</td>\n",
              "      <td>NaN</td>\n",
              "      <td>NaN</td>\n",
              "      <td>NaN</td>\n",
              "      <td>No</td>\n",
              "      <td>Manhattan</td>\n",
              "      <td>103</td>\n",
              "      <td>2.0</td>\n",
              "      <td>251</td>\n",
              "      <td>EAST 13 STREET</td>\n",
              "      <td>Street</td>\n",
              "      <td>0xD7080000010C00AF0DB46E282E41000A8C0582220941</td>\n",
              "      <td>9.882154e+05</td>\n",
              "      <td>205904.2527</td>\n",
              "      <td>No</td>\n",
              "    </tr>\n",
              "    <tr>\n",
              "      <th>4</th>\n",
              "      <td>560AADE4-1A81-443D-ADBA-412DCEF4899A</td>\n",
              "      <td>3/10/2015 4:00 AM</td>\n",
              "      <td>Ginkgo biloba - maidenhair tree</td>\n",
              "      <td>BD79972E-A3AE-4020-A5FF-3286AAFA8C01</td>\n",
              "      <td>Unauthorized Tree Removal</td>\n",
              "      <td>3-1-1 Call Center</td>\n",
              "      <td>Work Completed</td>\n",
              "      <td>3/6/2015 5:00 AM</td>\n",
              "      <td>2015.0</td>\n",
              "      <td>3/13/2015 4:00 AM</td>\n",
              "      <td>0.0</td>\n",
              "      <td>F0583608-5B94-4AC8-8800-F2CEE3410312</td>\n",
              "      <td>3/9/2015 4:00 AM</td>\n",
              "      <td>Level 1</td>\n",
              "      <td>Closed</td>\n",
              "      <td>Critical</td>\n",
              "      <td>2.0</td>\n",
              "      <td>Full</td>\n",
              "      <td>No</td>\n",
              "      <td>243A4BA3-EC85-47FA-80BF-C59BAC177CB6</td>\n",
              "      <td>Tree Down</td>\n",
              "      <td>NaN</td>\n",
              "      <td>NaN</td>\n",
              "      <td>NaN</td>\n",
              "      <td>NaN</td>\n",
              "      <td>NaN</td>\n",
              "      <td>NaN</td>\n",
              "      <td>NaN</td>\n",
              "      <td>NaN</td>\n",
              "      <td>NaN</td>\n",
              "      <td>No</td>\n",
              "      <td>Brooklyn</td>\n",
              "      <td>307</td>\n",
              "      <td>38.0</td>\n",
              "      <td>187</td>\n",
              "      <td>18 STREET</td>\n",
              "      <td>Street</td>\n",
              "      <td>0xD7080000010C80416D80B9172E410086A0D3C91F0641</td>\n",
              "      <td>9.860768e+05</td>\n",
              "      <td>181241.2283</td>\n",
              "      <td>No</td>\n",
              "    </tr>\n",
              "  </tbody>\n",
              "</table>\n",
              "</div>"
            ],
            "text/plain": [
              "                          Tree_GlobalID  ... FailedDuringStorm\n",
              "0  37195E1A-A7EE-4AA4-8389-19A0ED5C46F7  ...                No\n",
              "1  8717EC83-F165-495A-A1AA-1064173A681F  ...                No\n",
              "2  F763D1C0-3020-434A-AD05-F61D69CEC648  ...                No\n",
              "3  925EB161-3E0B-4F73-B45A-257B03DAF1E0  ...                No\n",
              "4  560AADE4-1A81-443D-ADBA-412DCEF4899A  ...                No\n",
              "\n",
              "[5 rows x 41 columns]"
            ]
          },
          "metadata": {},
          "execution_count": 7
        }
      ]
    },
    {
      "cell_type": "code",
      "metadata": {
        "colab": {
          "base_uri": "https://localhost:8080/"
        },
        "id": "3pLvdprCMlFn",
        "outputId": "d0f5744d-a1ae-4aea-aeb6-06066d9413cd"
      },
      "source": [
        "df_failedtrees.info()"
      ],
      "id": "3pLvdprCMlFn",
      "execution_count": null,
      "outputs": [
        {
          "output_type": "stream",
          "name": "stdout",
          "text": [
            "<class 'pandas.core.frame.DataFrame'>\n",
            "RangeIndex: 9612 entries, 0 to 9611\n",
            "Data columns (total 41 columns):\n",
            " #   Column                        Non-Null Count  Dtype  \n",
            "---  ------                        --------------  -----  \n",
            " 0   Tree_GlobalID                 9612 non-null   object \n",
            " 1   Tree_CreatedDate              9612 non-null   object \n",
            " 2   Tree_Species                  9612 non-null   object \n",
            " 3   PostFail_SR_GlobalID          7969 non-null   object \n",
            " 4   PostFail_SR_Type              7969 non-null   object \n",
            " 5   PostFail_SR_Source            7969 non-null   object \n",
            " 6   PostFail_SR_ResolutionAction  7964 non-null   object \n",
            " 7   PostFail_SR_CreatedDate       7969 non-null   object \n",
            " 8   PostFail_SR_CreatedYear       7969 non-null   float64\n",
            " 9   PostFail_SR_ClosedDate        7762 non-null   object \n",
            " 10  NumberOfDuplicateSRs          7969 non-null   float64\n",
            " 11  PostFail_INSP_GlobalID        9612 non-null   object \n",
            " 12  PostFail_INSP_InspectionDate  9610 non-null   object \n",
            " 13  PostFail_INSP_Type            9612 non-null   object \n",
            " 14  PostFail_INSP_Status          9612 non-null   object \n",
            " 15  PostFail_INSP_Condition       9612 non-null   object \n",
            " 16  PostFail_INSP_DBH             9604 non-null   float64\n",
            " 17  PostFail_INSP_Structure       9612 non-null   object \n",
            " 18  PostFail_INSP_TRM             9612 non-null   object \n",
            " 19  PostFail_WO_GlobalID          9612 non-null   object \n",
            " 20  PostFail_WO_Type              9612 non-null   object \n",
            " 21  DaysSinceInspection           1784 non-null   float64\n",
            " 22  PreFail_INSP_GlobalID         1784 non-null   object \n",
            " 23  PreFail_INSP_InspectionDate   1784 non-null   object \n",
            " 24  PreFail_INSP_Type             1784 non-null   object \n",
            " 25  PreFail_INSP_Status           1784 non-null   object \n",
            " 26  PreFail_INSP_Condition        1784 non-null   object \n",
            " 27  PreFail_INSP_DBH              1780 non-null   float64\n",
            " 28  PreFail_INSP_Structure        1784 non-null   object \n",
            " 29  PreFail_INSP_Rating           1669 non-null   object \n",
            " 30  PreFail_INSP_TRM              9612 non-null   object \n",
            " 31  Borough                       9612 non-null   object \n",
            " 32  CommunityBoard                9612 non-null   int64  \n",
            " 33  CityCouncil                   8508 non-null   float64\n",
            " 34  BuildingNumber                8090 non-null   object \n",
            " 35  StreetName                    9595 non-null   object \n",
            " 36  TreeLocation                  9611 non-null   object \n",
            " 37  Shape                         9612 non-null   object \n",
            " 38  X_Coord                       9612 non-null   float64\n",
            " 39  Y_Coord                       9612 non-null   float64\n",
            " 40  FailedDuringStorm             9612 non-null   object \n",
            "dtypes: float64(8), int64(1), object(32)\n",
            "memory usage: 3.0+ MB\n"
          ]
        }
      ]
    },
    {
      "cell_type": "markdown",
      "metadata": {
        "id": "1UPiNbpFljvq"
      },
      "source": [
        "Let us first explore the relationship between tree failure and features like tree species and borough"
      ],
      "id": "1UPiNbpFljvq"
    },
    {
      "cell_type": "code",
      "metadata": {
        "colab": {
          "base_uri": "https://localhost:8080/"
        },
        "id": "DdDAdGHvl64S",
        "outputId": "255da8c9-9f24-44ce-e6e8-ba215967872b"
      },
      "source": [
        "#pd.set_option(\"max_rows\", None)\n",
        "df_failedtrees['Tree_Species'].value_counts()"
      ],
      "id": "DdDAdGHvl64S",
      "execution_count": null,
      "outputs": [
        {
          "output_type": "execute_result",
          "data": {
            "text/plain": [
              "Acer platanoides - Norway maple                                                1038\n",
              "Pyrus calleryana - Callery pear                                                 938\n",
              "Platanus x acerifolia - London planetree                                        630\n",
              "Tilia cordata - littleleaf linden                                               628\n",
              "Unknown - Unknown                                                               454\n",
              "                                                                               ... \n",
              "Tilia tomentosa 'Green Mountain' - 'Green Mountain' Silver linden                 1\n",
              "Fagus sylvatica 'Asplenifolia' - 'Asplenifolia' European beech                    1\n",
              "Pinus strobiformis - southwestern white pine                                      1\n",
              "Alnus glutinosa - European alder                                                  1\n",
              "Tilia americana 'Continental Appeal' - 'Continental Appeal' American linden       1\n",
              "Name: Tree_Species, Length: 253, dtype: int64"
            ]
          },
          "metadata": {},
          "execution_count": 9
        }
      ]
    },
    {
      "cell_type": "code",
      "metadata": {
        "colab": {
          "base_uri": "https://localhost:8080/"
        },
        "id": "kD5PZKeZnLB5",
        "outputId": "781233ae-80e4-4c9d-f4fb-32a954128ffe"
      },
      "source": [
        "print('# of species with 100 or more occurences = ', (df_failedtrees['Tree_Species'].value_counts() >= 100).sum())\n",
        "print('# of species with 1 occurence = ', (df_failedtrees['Tree_Species'].value_counts() == 1).sum())\n",
        "print('# of species with 2 occurences = ', (df_failedtrees['Tree_Species'].value_counts() == 2).sum())"
      ],
      "id": "kD5PZKeZnLB5",
      "execution_count": null,
      "outputs": [
        {
          "output_type": "stream",
          "name": "stdout",
          "text": [
            "# of species with 100 or more occurences =  23\n",
            "# of species with 1 occurence =  89\n",
            "# of species with 2 occurences =  25\n"
          ]
        }
      ]
    },
    {
      "cell_type": "markdown",
      "metadata": {
        "id": "5ZgSq93ymq93"
      },
      "source": [
        "There are 252 different species of trees in this dataset. Species of 454 failed trees is unknown. 23 are common with 100+ instances, while the others have fewer occurences. Several species have only 1 or 2 occurences. It would be interesting to understand if this is the case because trees of those species fail less or they are just rare."
      ],
      "id": "5ZgSq93ymq93"
    },
    {
      "cell_type": "code",
      "metadata": {
        "colab": {
          "base_uri": "https://localhost:8080/",
          "height": 658
        },
        "id": "1EAs_VyRu-a4",
        "outputId": "82998138-6d89-4a44-e885-c35ab9eeab84"
      },
      "source": [
        "df_failedtrees['Tree_Species'].value_counts()[:23].plot(kind='bar')"
      ],
      "id": "1EAs_VyRu-a4",
      "execution_count": null,
      "outputs": [
        {
          "output_type": "execute_result",
          "data": {
            "text/plain": [
              "<matplotlib.axes._subplots.AxesSubplot at 0x7f4f9859cb10>"
            ]
          },
          "metadata": {},
          "execution_count": 11
        },
        {
          "output_type": "display_data",
          "data": {
            "image/png": "[encoded data removed]",
            "text/plain": [
              "<Figure size 432x288 with 1 Axes>"
            ]
          },
          "metadata": {
            "needs_background": "light"
          }
        }
      ]
    },
    {
      "cell_type": "code",
      "metadata": {
        "colab": {
          "base_uri": "https://localhost:8080/"
        },
        "id": "eeplvr_gvP2y",
        "outputId": "6cbbce23-d9ab-4256-a30f-7d70e3bf47f2"
      },
      "source": [
        "df_failedtrees['Borough'].value_counts()"
      ],
      "id": "eeplvr_gvP2y",
      "execution_count": null,
      "outputs": [
        {
          "output_type": "execute_result",
          "data": {
            "text/plain": [
              "Queens           4260\n",
              "Brooklyn         1705\n",
              "Staten Island    1286\n",
              "Bronx            1258\n",
              "Manhattan        1103\n",
              "Name: Borough, dtype: int64"
            ]
          },
          "metadata": {},
          "execution_count": 12
        }
      ]
    },
    {
      "cell_type": "markdown",
      "metadata": {
        "id": "fv8X8jLfvVPx"
      },
      "source": [
        "While we know how many of these trees failed in the different boroughs, it would be interesting to see how these compare to the number of trees in each of the boroughs. "
      ],
      "id": "fv8X8jLfvVPx"
    },
    {
      "cell_type": "code",
      "metadata": {
        "colab": {
          "base_uri": "https://localhost:8080/"
        },
        "id": "BtNf-phKLEWx",
        "outputId": "fa0a8afe-ddae-41f7-97e9-4a7950541c44"
      },
      "source": [
        "df_failedtrees['FailedDuringStorm'].value_counts()"
      ],
      "id": "BtNf-phKLEWx",
      "execution_count": null,
      "outputs": [
        {
          "output_type": "execute_result",
          "data": {
            "text/plain": [
              "No     4863\n",
              "Yes    4749\n",
              "Name: FailedDuringStorm, dtype: int64"
            ]
          },
          "metadata": {},
          "execution_count": 13
        }
      ]
    },
    {
      "cell_type": "markdown",
      "metadata": {
        "id": "N5vDlHmuLR2K"
      },
      "source": [
        "There is almost a 1:1 distribution for trees that failed during a storm versus not."
      ],
      "id": "N5vDlHmuLR2K"
    },
    {
      "cell_type": "code",
      "metadata": {
        "id": "bdbc688a-cc84-49bf-a9d0-3da89efcadbb"
      },
      "source": [
        "df_condition_storm = df_failedtrees.groupby(['PostFail_INSP_Condition', 'FailedDuringStorm']).size().reset_index()"
      ],
      "id": "bdbc688a-cc84-49bf-a9d0-3da89efcadbb",
      "execution_count": null,
      "outputs": []
    },
    {
      "cell_type": "code",
      "metadata": {
        "id": "I5vPH8i7qye1"
      },
      "source": [
        "df_condition_storm.rename(columns={0: 'Count'}, inplace=True)"
      ],
      "id": "I5vPH8i7qye1",
      "execution_count": null,
      "outputs": []
    },
    {
      "cell_type": "code",
      "metadata": {
        "colab": {
          "base_uri": "https://localhost:8080/",
          "height": 488
        },
        "id": "E4er6oNyqciM",
        "outputId": "b7220be9-7c7d-4389-f2f2-6d52eefdf682"
      },
      "source": [
        "df_condition_storm"
      ],
      "id": "E4er6oNyqciM",
      "execution_count": null,
      "outputs": [
        {
          "output_type": "execute_result",
          "data": {
            "text/html": [
              "<div>\n",
              "<style scoped>\n",
              "    .dataframe tbody tr th:only-of-type {\n",
              "        vertical-align: middle;\n",
              "    }\n",
              "\n",
              "    .dataframe tbody tr th {\n",
              "        vertical-align: top;\n",
              "    }\n",
              "\n",
              "    .dataframe thead th {\n",
              "        text-align: right;\n",
              "    }\n",
              "</style>\n",
              "<table border=\"1\" class=\"dataframe\">\n",
              "  <thead>\n",
              "    <tr style=\"text-align: right;\">\n",
              "      <th></th>\n",
              "      <th>PostFail_INSP_Condition</th>\n",
              "      <th>FailedDuringStorm</th>\n",
              "      <th>Count</th>\n",
              "    </tr>\n",
              "  </thead>\n",
              "  <tbody>\n",
              "    <tr>\n",
              "      <th>0</th>\n",
              "      <td>Critical</td>\n",
              "      <td>No</td>\n",
              "      <td>1689</td>\n",
              "    </tr>\n",
              "    <tr>\n",
              "      <th>1</th>\n",
              "      <td>Critical</td>\n",
              "      <td>Yes</td>\n",
              "      <td>1392</td>\n",
              "    </tr>\n",
              "    <tr>\n",
              "      <th>2</th>\n",
              "      <td>Dead</td>\n",
              "      <td>No</td>\n",
              "      <td>1734</td>\n",
              "    </tr>\n",
              "    <tr>\n",
              "      <th>3</th>\n",
              "      <td>Dead</td>\n",
              "      <td>Yes</td>\n",
              "      <td>1764</td>\n",
              "    </tr>\n",
              "    <tr>\n",
              "      <th>4</th>\n",
              "      <td>Excellent</td>\n",
              "      <td>No</td>\n",
              "      <td>3</td>\n",
              "    </tr>\n",
              "    <tr>\n",
              "      <th>5</th>\n",
              "      <td>Excellent</td>\n",
              "      <td>Yes</td>\n",
              "      <td>4</td>\n",
              "    </tr>\n",
              "    <tr>\n",
              "      <th>6</th>\n",
              "      <td>Fair</td>\n",
              "      <td>No</td>\n",
              "      <td>146</td>\n",
              "    </tr>\n",
              "    <tr>\n",
              "      <th>7</th>\n",
              "      <td>Fair</td>\n",
              "      <td>Yes</td>\n",
              "      <td>133</td>\n",
              "    </tr>\n",
              "    <tr>\n",
              "      <th>8</th>\n",
              "      <td>Good</td>\n",
              "      <td>No</td>\n",
              "      <td>131</td>\n",
              "    </tr>\n",
              "    <tr>\n",
              "      <th>9</th>\n",
              "      <td>Good</td>\n",
              "      <td>Yes</td>\n",
              "      <td>127</td>\n",
              "    </tr>\n",
              "    <tr>\n",
              "      <th>10</th>\n",
              "      <td>Poor</td>\n",
              "      <td>No</td>\n",
              "      <td>1015</td>\n",
              "    </tr>\n",
              "    <tr>\n",
              "      <th>11</th>\n",
              "      <td>Poor</td>\n",
              "      <td>Yes</td>\n",
              "      <td>754</td>\n",
              "    </tr>\n",
              "    <tr>\n",
              "      <th>12</th>\n",
              "      <td>Unknown</td>\n",
              "      <td>No</td>\n",
              "      <td>145</td>\n",
              "    </tr>\n",
              "    <tr>\n",
              "      <th>13</th>\n",
              "      <td>Unknown</td>\n",
              "      <td>Yes</td>\n",
              "      <td>575</td>\n",
              "    </tr>\n",
              "  </tbody>\n",
              "</table>\n",
              "</div>"
            ],
            "text/plain": [
              "   PostFail_INSP_Condition FailedDuringStorm  Count\n",
              "0                 Critical                No   1689\n",
              "1                 Critical               Yes   1392\n",
              "2                     Dead                No   1734\n",
              "3                     Dead               Yes   1764\n",
              "4                Excellent                No      3\n",
              "5                Excellent               Yes      4\n",
              "6                     Fair                No    146\n",
              "7                     Fair               Yes    133\n",
              "8                     Good                No    131\n",
              "9                     Good               Yes    127\n",
              "10                    Poor                No   1015\n",
              "11                    Poor               Yes    754\n",
              "12                 Unknown                No    145\n",
              "13                 Unknown               Yes    575"
            ]
          },
          "metadata": {},
          "execution_count": 16
        }
      ]
    },
    {
      "cell_type": "code",
      "metadata": {
        "id": "6bf00375-f8a6-4585-9a8c-798d279cbb37"
      },
      "source": [
        "df_failedtrees['PostFail_INSP_InspectionDate'] = pd.to_datetime(df_failedtrees['PostFail_INSP_InspectionDate'])\n",
        "df_failedtrees['PreFail_INSP_InspectionDate'] = pd.to_datetime(df_failedtrees['PreFail_INSP_InspectionDate'])"
      ],
      "id": "6bf00375-f8a6-4585-9a8c-798d279cbb37",
      "execution_count": null,
      "outputs": []
    },
    {
      "cell_type": "markdown",
      "metadata": {
        "id": "bGOhl-K_5BfV"
      },
      "source": [
        "Explore PostFail features"
      ],
      "id": "bGOhl-K_5BfV"
    },
    {
      "cell_type": "code",
      "metadata": {
        "id": "34c1b4e0-a889-421e-99d0-55b3419fc835",
        "colab": {
          "base_uri": "https://localhost:8080/"
        },
        "outputId": "69153d02-1c32-4d83-d87c-db239a7af77f"
      },
      "source": [
        "df_failedtrees.columns"
      ],
      "id": "34c1b4e0-a889-421e-99d0-55b3419fc835",
      "execution_count": null,
      "outputs": [
        {
          "output_type": "execute_result",
          "data": {
            "text/plain": [
              "Index(['Tree_GlobalID', 'Tree_CreatedDate', 'Tree_Species',\n",
              "       'PostFail_SR_GlobalID', 'PostFail_SR_Type', 'PostFail_SR_Source',\n",
              "       'PostFail_SR_ResolutionAction', 'PostFail_SR_CreatedDate',\n",
              "       'PostFail_SR_CreatedYear', 'PostFail_SR_ClosedDate',\n",
              "       'NumberOfDuplicateSRs', 'PostFail_INSP_GlobalID',\n",
              "       'PostFail_INSP_InspectionDate', 'PostFail_INSP_Type',\n",
              "       'PostFail_INSP_Status', 'PostFail_INSP_Condition', 'PostFail_INSP_DBH',\n",
              "       'PostFail_INSP_Structure', 'PostFail_INSP_TRM', 'PostFail_WO_GlobalID',\n",
              "       'PostFail_WO_Type', 'DaysSinceInspection', 'PreFail_INSP_GlobalID',\n",
              "       'PreFail_INSP_InspectionDate', 'PreFail_INSP_Type',\n",
              "       'PreFail_INSP_Status', 'PreFail_INSP_Condition', 'PreFail_INSP_DBH',\n",
              "       'PreFail_INSP_Structure', 'PreFail_INSP_Rating', 'PreFail_INSP_TRM',\n",
              "       'Borough', 'CommunityBoard', 'CityCouncil', 'BuildingNumber',\n",
              "       'StreetName', 'TreeLocation', 'Shape', 'X_Coord', 'Y_Coord',\n",
              "       'FailedDuringStorm'],\n",
              "      dtype='object')"
            ]
          },
          "metadata": {},
          "execution_count": 18
        }
      ]
    },
    {
      "cell_type": "code",
      "metadata": {
        "id": "5a472412-23d5-49d7-9c53-a22c02de5a73",
        "colab": {
          "base_uri": "https://localhost:8080/"
        },
        "outputId": "e5c7d5f4-c7ab-4069-fb16-b48529904406"
      },
      "source": [
        "df_failedtrees['PostFail_INSP_Type'].value_counts()"
      ],
      "id": "5a472412-23d5-49d7-9c53-a22c02de5a73",
      "execution_count": null,
      "outputs": [
        {
          "output_type": "execute_result",
          "data": {
            "text/plain": [
              "Level 1                     5695\n",
              "Level 2                     3826\n",
              "General - Planting Space      89\n",
              "Sidewalk Rating                1\n",
              "Level 3                        1\n",
              "Name: PostFail_INSP_Type, dtype: int64"
            ]
          },
          "metadata": {},
          "execution_count": 19
        }
      ]
    },
    {
      "cell_type": "markdown",
      "metadata": {
        "id": "zzfQfOMG5ViE"
      },
      "source": [
        "What do Level 1, 2, 3 represent? Is it how thorough the inspections were?"
      ],
      "id": "zzfQfOMG5ViE"
    },
    {
      "cell_type": "code",
      "metadata": {
        "id": "227333ec-c0cb-4e3d-aa1e-2ab7021e3c95",
        "colab": {
          "base_uri": "https://localhost:8080/",
          "height": 296
        },
        "outputId": "27e2ade3-2c76-4886-e141-5a9f14e9f5ea"
      },
      "source": [
        "df_failedtrees['PostFail_INSP_DBH'].hist(bins=60)\n",
        "plt.xlabel('Diameter at Breast Height')\n",
        "plt.ylabel('Frequency')"
      ],
      "id": "227333ec-c0cb-4e3d-aa1e-2ab7021e3c95",
      "execution_count": null,
      "outputs": [
        {
          "output_type": "execute_result",
          "data": {
            "text/plain": [
              "Text(0, 0.5, 'Frequency')"
            ]
          },
          "metadata": {},
          "execution_count": 37
        },
        {
          "output_type": "display_data",
          "data": {
            "image/png": "[encoded data removed]",
            "text/plain": [
              "<Figure size 432x288 with 1 Axes>"
            ]
          },
          "metadata": {
            "needs_background": "light"
          }
        }
      ]
    },
    {
      "cell_type": "code",
      "metadata": {
        "colab": {
          "base_uri": "https://localhost:8080/"
        },
        "id": "Bx162N3L5jUt",
        "outputId": "1696b221-e375-474c-c0cd-53de1d39bcdb"
      },
      "source": [
        "df_failedtrees['PostFail_INSP_DBH'].max()"
      ],
      "id": "Bx162N3L5jUt",
      "execution_count": null,
      "outputs": [
        {
          "output_type": "execute_result",
          "data": {
            "text/plain": [
              "354.0"
            ]
          },
          "metadata": {},
          "execution_count": 21
        }
      ]
    },
    {
      "cell_type": "code",
      "metadata": {
        "colab": {
          "base_uri": "https://localhost:8080/"
        },
        "id": "ZWj7VWic5-px",
        "outputId": "8036d0f8-0d30-4d76-97ed-2103ed228668"
      },
      "source": [
        "df_failedtrees['PostFail_INSP_Structure'].nunique()"
      ],
      "id": "ZWj7VWic5-px",
      "execution_count": null,
      "outputs": [
        {
          "output_type": "execute_result",
          "data": {
            "text/plain": [
              "1"
            ]
          },
          "metadata": {},
          "execution_count": 22
        }
      ]
    },
    {
      "cell_type": "markdown",
      "metadata": {
        "id": "iw_sKH4a6LGq"
      },
      "source": [
        "All entries have same value for PostFail Structure => not a useful variable"
      ],
      "id": "iw_sKH4a6LGq"
    },
    {
      "cell_type": "code",
      "metadata": {
        "colab": {
          "base_uri": "https://localhost:8080/"
        },
        "id": "OwzDqX6m6Exp",
        "outputId": "48e1a1e5-1c41-4f49-a338-970a83f7bfbd"
      },
      "source": [
        "df_failedtrees['PostFail_INSP_TRM'].value_counts()"
      ],
      "id": "OwzDqX6m6Exp",
      "execution_count": null,
      "outputs": [
        {
          "output_type": "execute_result",
          "data": {
            "text/plain": [
              "Yes    7544\n",
              "No     2068\n",
              "Name: PostFail_INSP_TRM, dtype: int64"
            ]
          },
          "metadata": {},
          "execution_count": 23
        }
      ]
    },
    {
      "cell_type": "markdown",
      "metadata": {
        "id": "_ZEX9QIS6pml"
      },
      "source": [
        "Not sure what TRM stands for..."
      ],
      "id": "_ZEX9QIS6pml"
    },
    {
      "cell_type": "markdown",
      "metadata": {
        "id": "v5TVwYF76xiD"
      },
      "source": [
        "It would be interesting to look at PreFail data to see whether it indicated that a failure was coming. \n",
        "Filter for rows that have PreFail Inspection data."
      ],
      "id": "v5TVwYF76xiD"
    },
    {
      "cell_type": "code",
      "metadata": {
        "id": "x42OeuRe6VWJ"
      },
      "source": [
        "df_pre_insp = df_failedtrees.dropna(subset=['PreFail_INSP_GlobalID'])"
      ],
      "id": "x42OeuRe6VWJ",
      "execution_count": null,
      "outputs": []
    },
    {
      "cell_type": "code",
      "metadata": {
        "colab": {
          "base_uri": "https://localhost:8080/",
          "height": 296
        },
        "id": "lua4QY9H7jwO",
        "outputId": "48c6ed7d-bd0a-4bfd-9d62-7ecb1304da64"
      },
      "source": [
        "df_pre_insp['DaysSinceInspection'].hist(bins=20)\n",
        "plt.xlabel('Days since inspection')\n",
        "plt.ylabel('Frequency')"
      ],
      "id": "lua4QY9H7jwO",
      "execution_count": null,
      "outputs": [
        {
          "output_type": "execute_result",
          "data": {
            "text/plain": [
              "Text(0, 0.5, 'Frequency')"
            ]
          },
          "metadata": {},
          "execution_count": 38
        },
        {
          "output_type": "display_data",
          "data": {
            "image/png": "[encoded data removed]",
            "text/plain": [
              "<Figure size 432x288 with 1 Axes>"
            ]
          },
          "metadata": {
            "needs_background": "light"
          }
        }
      ]
    },
    {
      "cell_type": "code",
      "metadata": {
        "colab": {
          "base_uri": "https://localhost:8080/"
        },
        "id": "qBD6BIk47x7Y",
        "outputId": "f765615a-f6d3-4fff-9fda-162e27a6d9db"
      },
      "source": [
        "df_pre_insp['PreFail_INSP_Condition'].value_counts()"
      ],
      "id": "qBD6BIk47x7Y",
      "execution_count": null,
      "outputs": [
        {
          "output_type": "execute_result",
          "data": {
            "text/plain": [
              "Good         612\n",
              "Fair         504\n",
              "Poor         312\n",
              "Dead         273\n",
              "Critical      69\n",
              "Unknown       11\n",
              "Excellent      3\n",
              "Name: PreFail_INSP_Condition, dtype: int64"
            ]
          },
          "metadata": {},
          "execution_count": 26
        }
      ]
    },
    {
      "cell_type": "markdown",
      "metadata": {
        "id": "hTZYCzKs8td-"
      },
      "source": [
        "Below we can see the relationship between PreFailCondition and DaysSinceInspection."
      ],
      "id": "hTZYCzKs8td-"
    },
    {
      "cell_type": "code",
      "metadata": {
        "colab": {
          "base_uri": "https://localhost:8080/",
          "height": 297
        },
        "id": "uKMlaP_a8Fno",
        "outputId": "8fb38e39-d890-46ec-9a2c-3c9ba6193bce"
      },
      "source": [
        "sns.boxplot(x='PreFail_INSP_Condition', y='DaysSinceInspection', data=df_pre_insp)"
      ],
      "id": "uKMlaP_a8Fno",
      "execution_count": null,
      "outputs": [
        {
          "output_type": "execute_result",
          "data": {
            "text/plain": [
              "<matplotlib.axes._subplots.AxesSubplot at 0x7f4f97e24850>"
            ]
          },
          "metadata": {},
          "execution_count": 27
        },
        {
          "output_type": "display_data",
          "data": {
            "image/png": "[encoded data removed]",
            "text/plain": [
              "<Figure size 432x288 with 1 Axes>"
            ]
          },
          "metadata": {
            "needs_background": "light"
          }
        }
      ]
    },
    {
      "cell_type": "markdown",
      "metadata": {
        "id": "GjS7z4TR8iHg"
      },
      "source": [
        "What does it mean when a tree is Dead during PreFailInspection? Why is it not considered failed at that point? "
      ],
      "id": "GjS7z4TR8iHg"
    },
    {
      "cell_type": "code",
      "metadata": {
        "colab": {
          "base_uri": "https://localhost:8080/"
        },
        "id": "nznRlEsB8aZB",
        "outputId": "db28d523-a7ad-4f22-ec9d-35713cad8626"
      },
      "source": [
        "df_pre_insp['DBH_diff'] = df_pre_insp['PostFail_INSP_DBH'] - df_pre_insp['PreFail_INSP_DBH']"
      ],
      "id": "nznRlEsB8aZB",
      "execution_count": null,
      "outputs": [
        {
          "output_type": "stream",
          "name": "stderr",
          "text": [
            "/usr/local/lib/python3.7/dist-packages/ipykernel_launcher.py:1: SettingWithCopyWarning: \n",
            "A value is trying to be set on a copy of a slice from a DataFrame.\n",
            "Try using .loc[row_indexer,col_indexer] = value instead\n",
            "\n",
            "See the caveats in the documentation: https://pandas.pydata.org/pandas-docs/stable/user_guide/indexing.html#returning-a-view-versus-a-copy\n",
            "  \"\"\"Entry point for launching an IPython kernel.\n"
          ]
        }
      ]
    },
    {
      "cell_type": "code",
      "metadata": {
        "colab": {
          "base_uri": "https://localhost:8080/",
          "height": 282
        },
        "id": "5wFDnqM_-BJB",
        "outputId": "e0b0a1f3-5c2a-4aee-f6f5-31d85e808267"
      },
      "source": [
        "df_pre_insp['DBH_diff'].hist()"
      ],
      "id": "5wFDnqM_-BJB",
      "execution_count": null,
      "outputs": [
        {
          "output_type": "execute_result",
          "data": {
            "text/plain": [
              "<matplotlib.axes._subplots.AxesSubplot at 0x7f4f97d877d0>"
            ]
          },
          "metadata": {},
          "execution_count": 29
        },
        {
          "output_type": "display_data",
          "data": {
            "image/png": "[encoded data removed]",
            "text/plain": [
              "<Figure size 432x288 with 1 Axes>"
            ]
          },
          "metadata": {
            "needs_background": "light"
          }
        }
      ]
    },
    {
      "cell_type": "markdown",
      "metadata": {
        "id": "BuSmVBZN-Yd5"
      },
      "source": [
        "Not much difference between DBH pre and post fail."
      ],
      "id": "BuSmVBZN-Yd5"
    },
    {
      "cell_type": "code",
      "metadata": {
        "colab": {
          "base_uri": "https://localhost:8080/"
        },
        "id": "qahl794K-F9k",
        "outputId": "b023ac4a-d95f-47a7-d673-4925d40eb8e7"
      },
      "source": [
        "df_pre_insp['PreFail_INSP_Structure'].value_counts()"
      ],
      "id": "qahl794K-F9k",
      "execution_count": null,
      "outputs": [
        {
          "output_type": "execute_result",
          "data": {
            "text/plain": [
              "Full                1760\n",
              "Shaft                 13\n",
              "Stump                  7\n",
              "Stump - Uprooted       4\n",
              "Name: PreFail_INSP_Structure, dtype: int64"
            ]
          },
          "metadata": {},
          "execution_count": 30
        }
      ]
    },
    {
      "cell_type": "code",
      "metadata": {
        "colab": {
          "base_uri": "https://localhost:8080/"
        },
        "id": "0PmvVUuc-kD6",
        "outputId": "3eb649f4-8059-4b10-8520-a7d491ec76ee"
      },
      "source": [
        "df_pre_insp['PreFail_INSP_Rating'].value_counts()"
      ],
      "id": "0PmvVUuc-kD6",
      "execution_count": null,
      "outputs": [
        {
          "output_type": "execute_result",
          "data": {
            "text/plain": [
              "Low (7)         302\n",
              "Low (6)         289\n",
              "Low (8)         252\n",
              "Low (3)         247\n",
              "Moderate (9)    229\n",
              "Low (5)         156\n",
              "Low (4)          84\n",
              "High (10)        74\n",
              "High (11)        24\n",
              "Extreme (12)     12\n",
              "Name: PreFail_INSP_Rating, dtype: int64"
            ]
          },
          "metadata": {},
          "execution_count": 31
        }
      ]
    },
    {
      "cell_type": "code",
      "metadata": {
        "id": "MgMb4tvo-sPl"
      },
      "source": [
        "def group_ratings(x):\n",
        "  y = ''\n",
        "  if 'Low' in x:\n",
        "    y = 'Low'\n",
        "  elif 'Moderate' in x:\n",
        "    y = 'Moderate'\n",
        "  elif 'High' in x:\n",
        "    y = 'High'\n",
        "  elif 'Extreme' in x:\n",
        "    y = 'Extreme'\n",
        "  else:\n",
        "    y = 'Unknown'\n",
        "  return y"
      ],
      "id": "MgMb4tvo-sPl",
      "execution_count": null,
      "outputs": []
    },
    {
      "cell_type": "code",
      "metadata": {
        "colab": {
          "base_uri": "https://localhost:8080/"
        },
        "id": "Eu_9OZZK_dlF",
        "outputId": "22032cda-f771-4b07-f641-b9d172448d46"
      },
      "source": [
        "df_pre_insp['PreFail_INSP_Rating_Grouped'] = df_pre_insp['PreFail_INSP_Rating'].apply(lambda x: group_ratings(str(x)))"
      ],
      "id": "Eu_9OZZK_dlF",
      "execution_count": null,
      "outputs": [
        {
          "output_type": "stream",
          "name": "stderr",
          "text": [
            "/usr/local/lib/python3.7/dist-packages/ipykernel_launcher.py:1: SettingWithCopyWarning: \n",
            "A value is trying to be set on a copy of a slice from a DataFrame.\n",
            "Try using .loc[row_indexer,col_indexer] = value instead\n",
            "\n",
            "See the caveats in the documentation: https://pandas.pydata.org/pandas-docs/stable/user_guide/indexing.html#returning-a-view-versus-a-copy\n",
            "  \"\"\"Entry point for launching an IPython kernel.\n"
          ]
        }
      ]
    },
    {
      "cell_type": "code",
      "metadata": {
        "colab": {
          "base_uri": "https://localhost:8080/",
          "height": 297
        },
        "id": "DbuqVgT509f4",
        "outputId": "d26b7b3a-e0ab-4fd7-d97b-8c8326f9861d"
      },
      "source": [
        "sns.boxplot(x='PreFail_INSP_Rating_Grouped', y='DaysSinceInspection', data=df_pre_insp)"
      ],
      "id": "DbuqVgT509f4",
      "execution_count": null,
      "outputs": [
        {
          "output_type": "execute_result",
          "data": {
            "text/plain": [
              "<matplotlib.axes._subplots.AxesSubplot at 0x7f4f97cbc1d0>"
            ]
          },
          "metadata": {},
          "execution_count": 34
        },
        {
          "output_type": "display_data",
          "data": {
            "image/png": "[encoded data removed]",
            "text/plain": [
              "<Figure size 432x288 with 1 Axes>"
            ]
          },
          "metadata": {
            "needs_background": "light"
          }
        }
      ]
    },
    {
      "cell_type": "code",
      "metadata": {
        "colab": {
          "base_uri": "https://localhost:8080/"
        },
        "id": "gqr6oZOO_paB",
        "outputId": "c5b0ef1f-d365-493f-a908-2620ec88138e"
      },
      "source": [
        "df_pre_insp['PreFail_INSP_Rating_Grouped'].value_counts()"
      ],
      "id": "gqr6oZOO_paB",
      "execution_count": null,
      "outputs": [
        {
          "output_type": "execute_result",
          "data": {
            "text/plain": [
              "Low         1330\n",
              "Moderate     229\n",
              "Unknown      115\n",
              "High          98\n",
              "Extreme       12\n",
              "Name: PreFail_INSP_Rating_Grouped, dtype: int64"
            ]
          },
          "metadata": {},
          "execution_count": 35
        }
      ]
    },
    {
      "cell_type": "code",
      "metadata": {
        "id": "AbtZr6rqAVs4"
      },
      "source": [
        ""
      ],
      "id": "AbtZr6rqAVs4",
      "execution_count": null,
      "outputs": []
    }
  ]
}