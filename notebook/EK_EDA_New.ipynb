{
  "nbformat": 4,
  "nbformat_minor": 0,
  "metadata": {
    "colab": {
      "name": "EK_EDA_New.ipynb",
      "provenance": [],
      "collapsed_sections": []
    },
    "kernelspec": {
      "name": "python3",
      "display_name": "Python 3"
    },
    "language_info": {
      "name": "python"
    }
  },
  "cells": [
    {
      "cell_type": "code",
      "metadata": {
        "id": "illXkHFs_QN7"
      },
      "source": [
        "import pandas as pd\n",
        "import matplotlib.pyplot as plt\n",
        "import seaborn as sns\n",
        "import datetime"
      ],
      "execution_count": 1,
      "outputs": []
    },
    {
      "cell_type": "code",
      "metadata": {
        "colab": {
          "base_uri": "https://localhost:8080/"
        },
        "id": "t0y9xxYw_W-c",
        "outputId": "de0e6c75-3d2c-4d6d-c1cb-f74dd0dd4738"
      },
      "source": [
        "from google.colab import drive\n",
        "drive.mount('/content/drive')"
      ],
      "execution_count": 2,
      "outputs": [
        {
          "output_type": "stream",
          "name": "stdout",
          "text": [
            "Mounted at /content/drive\n"
          ]
        }
      ]
    },
    {
      "cell_type": "code",
      "metadata": {
        "id": "XHcEcqyO_a8_"
      },
      "source": [
        "df_failedtrees = pd.read_csv('/content/drive/My Drive/nyc-parks-data/data/FailedTrees_20210621.csv')\n",
        "df_riskassessments=pd.read_csv('/content/drive/My Drive/nyc-parks-data/data/FailedTrees_RiskAssessments_20210621.csv')\n",
        "df_workhistory=pd.read_csv('/content/drive/My Drive/nyc-parks-data/data/FailedTrees_WorkHistory_20210621.csv', encoding='unicode_escape')"
      ],
      "execution_count": 3,
      "outputs": []
    },
    {
      "cell_type": "code",
      "metadata": {
        "id": "uMeEyHzF_lQg"
      },
      "source": [
        "df_sr = pd.read_csv('/content/drive/My Drive/nyc-parks-data/data/SRData_Cornell_20211028_REVISED.csv')"
      ],
      "execution_count": 4,
      "outputs": []
    },
    {
      "cell_type": "code",
      "metadata": {
        "colab": {
          "base_uri": "https://localhost:8080/",
          "height": 521
        },
        "id": "YUYps_EsBJ-g",
        "outputId": "b2681520-1185-42bc-d36b-c0c4dd1b6752"
      },
      "source": [
        "df_sr.head()"
      ],
      "execution_count": 5,
      "outputs": [
        {
          "output_type": "execute_result",
          "data": {
            "text/html": [
              "<div>\n",
              "<style scoped>\n",
              "    .dataframe tbody tr th:only-of-type {\n",
              "        vertical-align: middle;\n",
              "    }\n",
              "\n",
              "    .dataframe tbody tr th {\n",
              "        vertical-align: top;\n",
              "    }\n",
              "\n",
              "    .dataframe thead th {\n",
              "        text-align: right;\n",
              "    }\n",
              "</style>\n",
              "<table border=\"1\" class=\"dataframe\">\n",
              "  <thead>\n",
              "    <tr style=\"text-align: right;\">\n",
              "      <th></th>\n",
              "      <th>SRNumber</th>\n",
              "      <th>SRID</th>\n",
              "      <th>SR ComplaintNumber</th>\n",
              "      <th>SRSource</th>\n",
              "      <th>SRBorough</th>\n",
              "      <th>SRCommunityBoard</th>\n",
              "      <th>SRCategory</th>\n",
              "      <th>SRtype</th>\n",
              "      <th>SRStatus</th>\n",
              "      <th>SRResolutionActionValue</th>\n",
              "      <th>Insp Type RA</th>\n",
              "      <th>SRParentStatus</th>\n",
              "      <th>SR GlobalID</th>\n",
              "      <th>SR ServiceRequestParentGlobalID</th>\n",
              "      <th>SRCreatedDate</th>\n",
              "      <th>SRClosedDate</th>\n",
              "      <th>INSPID</th>\n",
              "      <th>INSPType</th>\n",
              "      <th>INSPDBH</th>\n",
              "      <th>INSPStructure</th>\n",
              "      <th>INSPCondtion</th>\n",
              "      <th>INSP_Max_RiskAssment</th>\n",
              "      <th>INSPCreatedDate</th>\n",
              "      <th>InspectionDate</th>\n",
              "      <th>INSPClosedDate</th>\n",
              "      <th>InspectedByERN</th>\n",
              "      <th>INSPEntityType</th>\n",
              "      <th>INSP GlobalID</th>\n",
              "      <th>WOID</th>\n",
              "      <th>WOCategory</th>\n",
              "      <th>WOType</th>\n",
              "      <th>WORating</th>\n",
              "      <th>WOPriorityCategory</th>\n",
              "      <th>WOStatus</th>\n",
              "      <th>WOCreatedDate</th>\n",
              "      <th>ActualFinishDate</th>\n",
              "      <th>WOEntity</th>\n",
              "      <th>TPID</th>\n",
              "      <th>TPDBH</th>\n",
              "      <th>TPStructure</th>\n",
              "      <th>TPCondition</th>\n",
              "      <th>TPSpecies</th>\n",
              "    </tr>\n",
              "  </thead>\n",
              "  <tbody>\n",
              "    <tr>\n",
              "      <th>0</th>\n",
              "      <td>1.0</td>\n",
              "      <td>8209567.0</td>\n",
              "      <td>1-1-1426982767</td>\n",
              "      <td>3-1-1 Call Center</td>\n",
              "      <td>Brooklyn</td>\n",
              "      <td>311.0</td>\n",
              "      <td>Root/Sewer/Sidewalk</td>\n",
              "      <td>Trees and Sidewalks</td>\n",
              "      <td>Closed</td>\n",
              "      <td>T/S Inspected - Repair Pending</td>\n",
              "      <td>Yes</td>\n",
              "      <td>Parent</td>\n",
              "      <td>EA17327B-4340-4010-9C43-BA0E6B7C69A1</td>\n",
              "      <td>NaN</td>\n",
              "      <td>6/30/2017 0:02</td>\n",
              "      <td>9/12/2017 7:10</td>\n",
              "      <td>6456714.0</td>\n",
              "      <td>Sidewalk Rating</td>\n",
              "      <td>9.0</td>\n",
              "      <td>Full</td>\n",
              "      <td>Good</td>\n",
              "      <td>3.0</td>\n",
              "      <td>9/12/2017 7:10</td>\n",
              "      <td>9/12/2017 7:10</td>\n",
              "      <td>9/12/2017 7:10</td>\n",
              "      <td>24.0</td>\n",
              "      <td>Consultant</td>\n",
              "      <td>F672AA26-1AFB-4E3F-BDCF-75312063ADA0</td>\n",
              "      <td>8426725.0</td>\n",
              "      <td>Tree and Sidewalk Repair</td>\n",
              "      <td>Tree and Sidewalk Repair</td>\n",
              "      <td>NaN</td>\n",
              "      <td>E</td>\n",
              "      <td>Alternate</td>\n",
              "      <td>6/25/2018 16:29</td>\n",
              "      <td>NaN</td>\n",
              "      <td>Expense</td>\n",
              "      <td>4633602.0</td>\n",
              "      <td>9.0</td>\n",
              "      <td>Full</td>\n",
              "      <td>Good</td>\n",
              "      <td>Tilia tomentosa</td>\n",
              "    </tr>\n",
              "    <tr>\n",
              "      <th>1</th>\n",
              "      <td>1.0</td>\n",
              "      <td>8209568.0</td>\n",
              "      <td>1-1-1427000712</td>\n",
              "      <td>3-1-1 Call Center</td>\n",
              "      <td>Queens</td>\n",
              "      <td>410.0</td>\n",
              "      <td>Illegal Tree Damage</td>\n",
              "      <td>Unauthorized Tree Removal</td>\n",
              "      <td>Closed</td>\n",
              "      <td>No Action - Jurisdiction</td>\n",
              "      <td>No</td>\n",
              "      <td>Parent</td>\n",
              "      <td>1CF587D9-3D7D-4C78-94F2-3A838A84A582</td>\n",
              "      <td>NaN</td>\n",
              "      <td>6/30/2017 0:03</td>\n",
              "      <td>1/19/2018 13:20</td>\n",
              "      <td>NaN</td>\n",
              "      <td>NaN</td>\n",
              "      <td>NaN</td>\n",
              "      <td>NaN</td>\n",
              "      <td>NaN</td>\n",
              "      <td>NaN</td>\n",
              "      <td>NaN</td>\n",
              "      <td>NaN</td>\n",
              "      <td>NaN</td>\n",
              "      <td>NaN</td>\n",
              "      <td>NaN</td>\n",
              "      <td>NaN</td>\n",
              "      <td>NaN</td>\n",
              "      <td>NaN</td>\n",
              "      <td>NaN</td>\n",
              "      <td>NaN</td>\n",
              "      <td>E</td>\n",
              "      <td>NaN</td>\n",
              "      <td>NaN</td>\n",
              "      <td>NaN</td>\n",
              "      <td>NaN</td>\n",
              "      <td>NaN</td>\n",
              "      <td>NaN</td>\n",
              "      <td>NaN</td>\n",
              "      <td>NaN</td>\n",
              "      <td>NaN</td>\n",
              "    </tr>\n",
              "    <tr>\n",
              "      <th>2</th>\n",
              "      <td>1.0</td>\n",
              "      <td>8209569.0</td>\n",
              "      <td>1-1-1426975783</td>\n",
              "      <td>3-1-1 Call Center</td>\n",
              "      <td>Queens</td>\n",
              "      <td>407.0</td>\n",
              "      <td>Root/Sewer/Sidewalk</td>\n",
              "      <td>Trees and Sidewalks</td>\n",
              "      <td>Closed</td>\n",
              "      <td>T/S Inspected - Repair Pending</td>\n",
              "      <td>Yes</td>\n",
              "      <td>Parent</td>\n",
              "      <td>9BE0367F-C981-4A7C-AC6E-339B062589DD</td>\n",
              "      <td>NaN</td>\n",
              "      <td>6/30/2017 0:06</td>\n",
              "      <td>9/19/2017 11:52</td>\n",
              "      <td>6481097.0</td>\n",
              "      <td>Sidewalk Rating</td>\n",
              "      <td>14.0</td>\n",
              "      <td>Full</td>\n",
              "      <td>Good</td>\n",
              "      <td>7.0</td>\n",
              "      <td>9/19/2017 11:52</td>\n",
              "      <td>9/19/2017 11:52</td>\n",
              "      <td>9/19/2017 11:52</td>\n",
              "      <td>497680.0</td>\n",
              "      <td>InHouse</td>\n",
              "      <td>D30571E6-2AF6-4234-8036-31DE4B03E897</td>\n",
              "      <td>7889081.0</td>\n",
              "      <td>Tree and Sidewalk Repair</td>\n",
              "      <td>Tree and Sidewalk Repair</td>\n",
              "      <td>NaN</td>\n",
              "      <td>E</td>\n",
              "      <td>Alternate</td>\n",
              "      <td>3/14/2018 14:41</td>\n",
              "      <td>NaN</td>\n",
              "      <td>Expense</td>\n",
              "      <td>2503759.0</td>\n",
              "      <td>14.0</td>\n",
              "      <td>Full</td>\n",
              "      <td>Good</td>\n",
              "      <td>Acer rubrum</td>\n",
              "    </tr>\n",
              "    <tr>\n",
              "      <th>3</th>\n",
              "      <td>1.0</td>\n",
              "      <td>8199583.0</td>\n",
              "      <td>1-1-1427090262</td>\n",
              "      <td>3-1-1 Call Center</td>\n",
              "      <td>Bronx</td>\n",
              "      <td>206.0</td>\n",
              "      <td>Remove Tree</td>\n",
              "      <td>Dead Tree Older Than 2 Years</td>\n",
              "      <td>Closed</td>\n",
              "      <td>Inspected - No Work Order</td>\n",
              "      <td>Yes</td>\n",
              "      <td>Parent</td>\n",
              "      <td>AC84862F-C9DD-4303-9557-9E5DC90CE555</td>\n",
              "      <td>NaN</td>\n",
              "      <td>6/30/2017 0:10</td>\n",
              "      <td>11/21/2020 11:11</td>\n",
              "      <td>6257011.0</td>\n",
              "      <td>Level 2</td>\n",
              "      <td>22.0</td>\n",
              "      <td>Full</td>\n",
              "      <td>Fair</td>\n",
              "      <td>10.0</td>\n",
              "      <td>7/14/2017 11:26</td>\n",
              "      <td>7/14/2017 11:26</td>\n",
              "      <td>7/14/2017 11:26</td>\n",
              "      <td>1497018.0</td>\n",
              "      <td>InHouse</td>\n",
              "      <td>77AF59BB-C766-4C72-B21F-164B990BFC90</td>\n",
              "      <td>6570064.0</td>\n",
              "      <td>Risk Mitigation</td>\n",
              "      <td>Pruning</td>\n",
              "      <td>10.0</td>\n",
              "      <td>B</td>\n",
              "      <td>Cancel</td>\n",
              "      <td>7/14/2017 11:40</td>\n",
              "      <td>NaN</td>\n",
              "      <td>In-House</td>\n",
              "      <td>2266452.0</td>\n",
              "      <td>22.0</td>\n",
              "      <td>Stump</td>\n",
              "      <td>Dead</td>\n",
              "      <td>Fraxinus pennsylvanica</td>\n",
              "    </tr>\n",
              "    <tr>\n",
              "      <th>4</th>\n",
              "      <td>1.0</td>\n",
              "      <td>8199584.0</td>\n",
              "      <td>1-1-1426913185</td>\n",
              "      <td>3-1-1 Call Center</td>\n",
              "      <td>Brooklyn</td>\n",
              "      <td>318.0</td>\n",
              "      <td>Prune</td>\n",
              "      <td>Clear Street Light</td>\n",
              "      <td>Open</td>\n",
              "      <td>NaN</td>\n",
              "      <td>No</td>\n",
              "      <td>Child</td>\n",
              "      <td>31C2519E-F8CC-4691-BD14-1D5BA9F37BD6</td>\n",
              "      <td>2FD07D88-5FBC-48BE-90A7-9C773E169050</td>\n",
              "      <td>6/30/2017 0:17</td>\n",
              "      <td>NaN</td>\n",
              "      <td>NaN</td>\n",
              "      <td>Duplicate</td>\n",
              "      <td>NaN</td>\n",
              "      <td>NaN</td>\n",
              "      <td>NaN</td>\n",
              "      <td>NaN</td>\n",
              "      <td>NaN</td>\n",
              "      <td>NaN</td>\n",
              "      <td>NaN</td>\n",
              "      <td>NaN</td>\n",
              "      <td>NaN</td>\n",
              "      <td>NaN</td>\n",
              "      <td>NaN</td>\n",
              "      <td>NaN</td>\n",
              "      <td>NaN</td>\n",
              "      <td>NaN</td>\n",
              "      <td>E</td>\n",
              "      <td>NaN</td>\n",
              "      <td>NaN</td>\n",
              "      <td>NaN</td>\n",
              "      <td>NaN</td>\n",
              "      <td>NaN</td>\n",
              "      <td>NaN</td>\n",
              "      <td>NaN</td>\n",
              "      <td>NaN</td>\n",
              "      <td>NaN</td>\n",
              "    </tr>\n",
              "  </tbody>\n",
              "</table>\n",
              "</div>"
            ],
            "text/plain": [
              "   SRNumber       SRID  ... TPCondition               TPSpecies\n",
              "0       1.0  8209567.0  ...        Good         Tilia tomentosa\n",
              "1       1.0  8209568.0  ...         NaN                     NaN\n",
              "2       1.0  8209569.0  ...        Good             Acer rubrum\n",
              "3       1.0  8199583.0  ...        Dead  Fraxinus pennsylvanica\n",
              "4       1.0  8199584.0  ...         NaN                     NaN\n",
              "\n",
              "[5 rows x 42 columns]"
            ]
          },
          "metadata": {},
          "execution_count": 5
        }
      ]
    },
    {
      "cell_type": "code",
      "metadata": {
        "colab": {
          "base_uri": "https://localhost:8080/"
        },
        "id": "V3ifQttPBwEm",
        "outputId": "1fcf4aab-4727-4921-bfa2-240230248037"
      },
      "source": [
        "pd.options.display.max_rows = 10\n",
        "df_sr['SRtype'].value_counts()"
      ],
      "execution_count": 6,
      "outputs": [
        {
          "output_type": "execute_result",
          "data": {
            "text/plain": [
              "Dead Tree Older Than 2 Years        31009\n",
              "Trees and Sidewalks                 27478\n",
              "Limb Down - Sidewalk                19605\n",
              "Clear Building                      16827\n",
              "Hanging Limb from other Branches    12831\n",
              "                                    ...  \n",
              "Decompact Soil                          1\n",
              "Clear Traffic - Yield Sign              1\n",
              "Add Guards                              1\n",
              "Cabling/Bracing                         1\n",
              "Pavers Fix                              1\n",
              "Name: SRtype, Length: 90, dtype: int64"
            ]
          },
          "metadata": {},
          "execution_count": 6
        }
      ]
    },
    {
      "cell_type": "code",
      "metadata": {
        "colab": {
          "base_uri": "https://localhost:8080/"
        },
        "id": "poY8-BrjCDmT",
        "outputId": "db9c898a-54a0-443c-b73b-d3d1e6697f5e"
      },
      "source": [
        "df_sr['SRCategory'].value_counts()"
      ],
      "execution_count": 7,
      "outputs": [
        {
          "output_type": "execute_result",
          "data": {
            "text/plain": [
              "Hazard                 92181\n",
              "Prune                  50737\n",
              "Remove Tree            46987\n",
              "Root/Sewer/Sidewalk    31105\n",
              "Illegal Tree Damage    11676\n",
              "Rescue/Preservation      661\n",
              "Remove Stump             167\n",
              "Pest/Disease              74\n",
              "Planting Space            20\n",
              "Name: SRCategory, dtype: int64"
            ]
          },
          "metadata": {},
          "execution_count": 7
        }
      ]
    },
    {
      "cell_type": "code",
      "metadata": {
        "colab": {
          "base_uri": "https://localhost:8080/"
        },
        "id": "iUaMOiEdFKTY",
        "outputId": "936590cb-4c6c-4219-c7b5-d7aeb7cd36dc"
      },
      "source": [
        "df_sr.shape"
      ],
      "execution_count": 8,
      "outputs": [
        {
          "output_type": "execute_result",
          "data": {
            "text/plain": [
              "(233609, 42)"
            ]
          },
          "metadata": {},
          "execution_count": 8
        }
      ]
    },
    {
      "cell_type": "code",
      "metadata": {
        "colab": {
          "base_uri": "https://localhost:8080/",
          "height": 293
        },
        "id": "G3TSzhHsGwkm",
        "outputId": "a8438e30-b8ee-4964-d2f2-379d7cbd3422"
      },
      "source": [
        "df_riskassessments.head()"
      ],
      "execution_count": 9,
      "outputs": [
        {
          "output_type": "execute_result",
          "data": {
            "text/html": [
              "<div>\n",
              "<style scoped>\n",
              "    .dataframe tbody tr th:only-of-type {\n",
              "        vertical-align: middle;\n",
              "    }\n",
              "\n",
              "    .dataframe tbody tr th {\n",
              "        vertical-align: top;\n",
              "    }\n",
              "\n",
              "    .dataframe thead th {\n",
              "        text-align: right;\n",
              "    }\n",
              "</style>\n",
              "<table border=\"1\" class=\"dataframe\">\n",
              "  <thead>\n",
              "    <tr style=\"text-align: right;\">\n",
              "      <th></th>\n",
              "      <th>Tree_GlobalID</th>\n",
              "      <th>INSPID</th>\n",
              "      <th>INSP_GlobalID</th>\n",
              "      <th>Risk_GlobalID</th>\n",
              "      <th>Risk_Defect</th>\n",
              "      <th>Risk_DefectLocation</th>\n",
              "      <th>Risk_Failure</th>\n",
              "      <th>Risk_ImpactTarget</th>\n",
              "      <th>Risk_FailureImpact</th>\n",
              "      <th>Risk_FailureConsequence</th>\n",
              "      <th>RiskRating</th>\n",
              "      <th>MitigationRecommendation</th>\n",
              "    </tr>\n",
              "  </thead>\n",
              "  <tbody>\n",
              "    <tr>\n",
              "      <th>0</th>\n",
              "      <td>3C5B726A-232A-4455-A79D-1F93BBFA104A</td>\n",
              "      <td>6516251</td>\n",
              "      <td>47F10AD4-28C0-4FD7-A3E8-A7F75A10575D</td>\n",
              "      <td>CB8C9B85-C6DF-496E-BCFE-6194DF812F71</td>\n",
              "      <td>Weak Branch Unions</td>\n",
              "      <td>Branches</td>\n",
              "      <td>Improbable (1)</td>\n",
              "      <td>Very Low (1)</td>\n",
              "      <td>Unlikely (2)</td>\n",
              "      <td>Negligible (1)</td>\n",
              "      <td>Low (3)</td>\n",
              "      <td>NaN</td>\n",
              "    </tr>\n",
              "    <tr>\n",
              "      <th>1</th>\n",
              "      <td>C39B9FBD-32A9-4261-9C3C-FECD217AEE06</td>\n",
              "      <td>6672584</td>\n",
              "      <td>CBCD6EC3-944B-4EC7-BD19-BF4EC626911E</td>\n",
              "      <td>24BC2161-ECEA-4A1E-9139-DD5C88DDD22C</td>\n",
              "      <td>No Visible Defect</td>\n",
              "      <td>Entire Tree</td>\n",
              "      <td>Improbable (1)</td>\n",
              "      <td>Very Low (1)</td>\n",
              "      <td>Unlikely (2)</td>\n",
              "      <td>Negligible (1)</td>\n",
              "      <td>Low (3)</td>\n",
              "      <td>NaN</td>\n",
              "    </tr>\n",
              "    <tr>\n",
              "      <th>2</th>\n",
              "      <td>77336EFB-1930-4777-9B78-E0C537C1363B</td>\n",
              "      <td>6691388</td>\n",
              "      <td>1F7F2BAA-25DB-47B8-BA95-499A4C76E18D</td>\n",
              "      <td>2A46CC96-A4EF-443D-808F-1A050782C268</td>\n",
              "      <td>No Visible Defect</td>\n",
              "      <td>Entire Tree</td>\n",
              "      <td>Improbable (1)</td>\n",
              "      <td>Very Low (1)</td>\n",
              "      <td>Unlikely (2)</td>\n",
              "      <td>Negligible (1)</td>\n",
              "      <td>Low (3)</td>\n",
              "      <td>NaN</td>\n",
              "    </tr>\n",
              "    <tr>\n",
              "      <th>3</th>\n",
              "      <td>4B21372B-8C4E-48C5-B0CA-DE9C0C999A18</td>\n",
              "      <td>7648110</td>\n",
              "      <td>AEC2DADA-042F-4368-BCFD-9E013542FCA5</td>\n",
              "      <td>6D4F4C1C-DF7C-4203-8D16-9AE276AF64D3</td>\n",
              "      <td>No Visible Defect</td>\n",
              "      <td>Entire Tree</td>\n",
              "      <td>Improbable (1)</td>\n",
              "      <td>Very Low (1)</td>\n",
              "      <td>Unlikely (2)</td>\n",
              "      <td>Negligible (1)</td>\n",
              "      <td>Low (3)</td>\n",
              "      <td>NaN</td>\n",
              "    </tr>\n",
              "    <tr>\n",
              "      <th>4</th>\n",
              "      <td>8977A7B4-82A8-49ED-A3A8-43A376B165FD</td>\n",
              "      <td>8025776</td>\n",
              "      <td>8FC6BC56-6248-4E74-85C2-9ACAA634AB4A</td>\n",
              "      <td>9C2CD0F9-01FF-49EC-A835-5AF091D4F1DF</td>\n",
              "      <td>No Visible Defect</td>\n",
              "      <td>Entire Tree</td>\n",
              "      <td>Improbable (1)</td>\n",
              "      <td>Very Low (1)</td>\n",
              "      <td>Unlikely (2)</td>\n",
              "      <td>Negligible (1)</td>\n",
              "      <td>Low (3)</td>\n",
              "      <td>NaN</td>\n",
              "    </tr>\n",
              "  </tbody>\n",
              "</table>\n",
              "</div>"
            ],
            "text/plain": [
              "                          Tree_GlobalID  ...  MitigationRecommendation\n",
              "0  3C5B726A-232A-4455-A79D-1F93BBFA104A  ...                       NaN\n",
              "1  C39B9FBD-32A9-4261-9C3C-FECD217AEE06  ...                       NaN\n",
              "2  77336EFB-1930-4777-9B78-E0C537C1363B  ...                       NaN\n",
              "3  4B21372B-8C4E-48C5-B0CA-DE9C0C999A18  ...                       NaN\n",
              "4  8977A7B4-82A8-49ED-A3A8-43A376B165FD  ...                       NaN\n",
              "\n",
              "[5 rows x 12 columns]"
            ]
          },
          "metadata": {},
          "execution_count": 9
        }
      ]
    },
    {
      "cell_type": "code",
      "metadata": {
        "colab": {
          "base_uri": "https://localhost:8080/",
          "height": 521
        },
        "id": "Hn24jzX7HDs_",
        "outputId": "5ad91164-d74d-4299-d364-987bd84e1fee"
      },
      "source": [
        "df_workhistory.head()"
      ],
      "execution_count": 10,
      "outputs": [
        {
          "output_type": "execute_result",
          "data": {
            "text/html": [
              "<div>\n",
              "<style scoped>\n",
              "    .dataframe tbody tr th:only-of-type {\n",
              "        vertical-align: middle;\n",
              "    }\n",
              "\n",
              "    .dataframe tbody tr th {\n",
              "        vertical-align: top;\n",
              "    }\n",
              "\n",
              "    .dataframe thead th {\n",
              "        text-align: right;\n",
              "    }\n",
              "</style>\n",
              "<table border=\"1\" class=\"dataframe\">\n",
              "  <thead>\n",
              "    <tr style=\"text-align: right;\">\n",
              "      <th></th>\n",
              "      <th>Tree_GlobalID</th>\n",
              "      <th>INSPID</th>\n",
              "      <th>INSP_GlobalID</th>\n",
              "      <th>AddressedFailure</th>\n",
              "      <th>INSP_InspectionDate</th>\n",
              "      <th>INSP_RiskRating</th>\n",
              "      <th>INSP_Type</th>\n",
              "      <th>IsReinspection</th>\n",
              "      <th>INSP_ReinspectionDate</th>\n",
              "      <th>INSP_ParentInspectionGlobalID</th>\n",
              "      <th>INSP_TreeCondition</th>\n",
              "      <th>INSP_TreeStructure</th>\n",
              "      <th>INSP_TreeDBH</th>\n",
              "      <th>INSP_Comments</th>\n",
              "      <th>WO_CreatedDate</th>\n",
              "      <th>WO_ActualFinishDate</th>\n",
              "      <th>WO_Type</th>\n",
              "      <th>WO_Status</th>\n",
              "      <th>SR_GlobalID</th>\n",
              "      <th>SR_Type</th>\n",
              "      <th>SR_Source</th>\n",
              "      <th>SR_Status</th>\n",
              "      <th>SR_ResolutionAction</th>\n",
              "      <th>SR_CreatedDate</th>\n",
              "      <th>SR_ClosedDate</th>\n",
              "    </tr>\n",
              "  </thead>\n",
              "  <tbody>\n",
              "    <tr>\n",
              "      <th>0</th>\n",
              "      <td>7B9CC3BB-45E4-4317-863F-000052F2BAF8</td>\n",
              "      <td>6424892</td>\n",
              "      <td>3322695F-96DD-4ED0-9444-AA1F3F52DFBC</td>\n",
              "      <td>No</td>\n",
              "      <td>9/18/2017 12:41 PM</td>\n",
              "      <td>Low (3)</td>\n",
              "      <td>Level 2</td>\n",
              "      <td>Yes</td>\n",
              "      <td>9/13/2017 7:17 AM</td>\n",
              "      <td>70BD3775-EF50-4B44-B5DB-34440BE0DEC7</td>\n",
              "      <td>Dead</td>\n",
              "      <td>Full</td>\n",
              "      <td>2.0</td>\n",
              "      <td>NaN</td>\n",
              "      <td>9/18/2017 12:41 PM</td>\n",
              "      <td>NaN</td>\n",
              "      <td>Tree Removal</td>\n",
              "      <td>Cancel</td>\n",
              "      <td>NaN</td>\n",
              "      <td>NaN</td>\n",
              "      <td>NaN</td>\n",
              "      <td>NaN</td>\n",
              "      <td>NaN</td>\n",
              "      <td>NaN</td>\n",
              "      <td>NaN</td>\n",
              "    </tr>\n",
              "    <tr>\n",
              "      <th>1</th>\n",
              "      <td>7B9CC3BB-45E4-4317-863F-000052F2BAF8</td>\n",
              "      <td>6424893</td>\n",
              "      <td>70BD3775-EF50-4B44-B5DB-34440BE0DEC7</td>\n",
              "      <td>No</td>\n",
              "      <td>8/30/2017 7:29 AM</td>\n",
              "      <td>NaN</td>\n",
              "      <td>Level 1</td>\n",
              "      <td>No</td>\n",
              "      <td>NaN</td>\n",
              "      <td>NaN</td>\n",
              "      <td>Dead</td>\n",
              "      <td>Full</td>\n",
              "      <td>2.0</td>\n",
              "      <td>BP17</td>\n",
              "      <td>NaN</td>\n",
              "      <td>NaN</td>\n",
              "      <td>NaN</td>\n",
              "      <td>NaN</td>\n",
              "      <td>NaN</td>\n",
              "      <td>NaN</td>\n",
              "      <td>NaN</td>\n",
              "      <td>NaN</td>\n",
              "      <td>NaN</td>\n",
              "      <td>NaN</td>\n",
              "      <td>NaN</td>\n",
              "    </tr>\n",
              "    <tr>\n",
              "      <th>2</th>\n",
              "      <td>B23389DD-3EDC-41EB-8CA8-000981F5D64B</td>\n",
              "      <td>6004857</td>\n",
              "      <td>A2AAC418-613F-4322-AD25-B90EB266069C</td>\n",
              "      <td>No</td>\n",
              "      <td>5/8/2017 9:24 AM</td>\n",
              "      <td>NaN</td>\n",
              "      <td>Level 1</td>\n",
              "      <td>No</td>\n",
              "      <td>NaN</td>\n",
              "      <td>NaN</td>\n",
              "      <td>Fair</td>\n",
              "      <td>Full</td>\n",
              "      <td>5.0</td>\n",
              "      <td>4F, Block Prune FY18</td>\n",
              "      <td>NaN</td>\n",
              "      <td>NaN</td>\n",
              "      <td>NaN</td>\n",
              "      <td>NaN</td>\n",
              "      <td>NaN</td>\n",
              "      <td>NaN</td>\n",
              "      <td>NaN</td>\n",
              "      <td>NaN</td>\n",
              "      <td>NaN</td>\n",
              "      <td>NaN</td>\n",
              "      <td>NaN</td>\n",
              "    </tr>\n",
              "    <tr>\n",
              "      <th>3</th>\n",
              "      <td>95E1F383-4504-4D1E-91BB-000AE2223385</td>\n",
              "      <td>6613156</td>\n",
              "      <td>D82E21D1-E69E-4ECF-A7C4-4BE7FAE4864B</td>\n",
              "      <td>No</td>\n",
              "      <td>10/31/2017 11:42 AM</td>\n",
              "      <td>NaN</td>\n",
              "      <td>Level 1</td>\n",
              "      <td>No</td>\n",
              "      <td>NaN</td>\n",
              "      <td>NaN</td>\n",
              "      <td>Good</td>\n",
              "      <td>Full</td>\n",
              "      <td>23.0</td>\n",
              "      <td>1F</td>\n",
              "      <td>10/31/2017 11:43 AM</td>\n",
              "      <td>NaN</td>\n",
              "      <td>Block Pruning</td>\n",
              "      <td>Cancel</td>\n",
              "      <td>NaN</td>\n",
              "      <td>NaN</td>\n",
              "      <td>NaN</td>\n",
              "      <td>NaN</td>\n",
              "      <td>NaN</td>\n",
              "      <td>NaN</td>\n",
              "      <td>NaN</td>\n",
              "    </tr>\n",
              "    <tr>\n",
              "      <th>4</th>\n",
              "      <td>95E1F383-4504-4D1E-91BB-000AE2223385</td>\n",
              "      <td>7118171</td>\n",
              "      <td>A087568D-255B-4702-89AE-B1951C7F02AD</td>\n",
              "      <td>No</td>\n",
              "      <td>3/6/2018 5:00 AM</td>\n",
              "      <td>NaN</td>\n",
              "      <td>Level 1</td>\n",
              "      <td>No</td>\n",
              "      <td>NaN</td>\n",
              "      <td>NaN</td>\n",
              "      <td>Critical</td>\n",
              "      <td>Full</td>\n",
              "      <td>21.0</td>\n",
              "      <td>TREE DOWN BLOCKING ENTRANCE OV THE HOUSE</td>\n",
              "      <td>NaN</td>\n",
              "      <td>NaN</td>\n",
              "      <td>NaN</td>\n",
              "      <td>NaN</td>\n",
              "      <td>791DF178-CF97-4C55-9934-6951C9D5492C</td>\n",
              "      <td>Tree Down - Sidewalk</td>\n",
              "      <td>Department of Parks and Recreation - Public We...</td>\n",
              "      <td>Closed</td>\n",
              "      <td>Work Completed</td>\n",
              "      <td>3/3/2018 4:12 PM</td>\n",
              "      <td>3/7/2018 8:58 PM</td>\n",
              "    </tr>\n",
              "  </tbody>\n",
              "</table>\n",
              "</div>"
            ],
            "text/plain": [
              "                          Tree_GlobalID  ...     SR_ClosedDate\n",
              "0  7B9CC3BB-45E4-4317-863F-000052F2BAF8  ...               NaN\n",
              "1  7B9CC3BB-45E4-4317-863F-000052F2BAF8  ...               NaN\n",
              "2  B23389DD-3EDC-41EB-8CA8-000981F5D64B  ...               NaN\n",
              "3  95E1F383-4504-4D1E-91BB-000AE2223385  ...               NaN\n",
              "4  95E1F383-4504-4D1E-91BB-000AE2223385  ...  3/7/2018 8:58 PM\n",
              "\n",
              "[5 rows x 25 columns]"
            ]
          },
          "metadata": {},
          "execution_count": 10
        }
      ]
    },
    {
      "cell_type": "code",
      "metadata": {
        "id": "Es4RrJuV7wtK",
        "colab": {
          "base_uri": "https://localhost:8080/"
        },
        "outputId": "c6e706a2-82d5-431f-e800-95a23c4c7f00"
      },
      "source": [
        "df_workhistory.shape"
      ],
      "execution_count": 11,
      "outputs": [
        {
          "output_type": "execute_result",
          "data": {
            "text/plain": [
              "(5796, 25)"
            ]
          },
          "metadata": {},
          "execution_count": 11
        }
      ]
    },
    {
      "cell_type": "code",
      "metadata": {
        "colab": {
          "base_uri": "https://localhost:8080/"
        },
        "id": "-PYr1P4I6mXD",
        "outputId": "53056c7f-ddf4-4c64-ceea-4c0ad3bc8422"
      },
      "source": [
        "df_riskassessments.shape"
      ],
      "execution_count": 12,
      "outputs": [
        {
          "output_type": "execute_result",
          "data": {
            "text/plain": [
              "(2714, 12)"
            ]
          },
          "metadata": {},
          "execution_count": 12
        }
      ]
    },
    {
      "cell_type": "code",
      "metadata": {
        "colab": {
          "base_uri": "https://localhost:8080/"
        },
        "id": "bLV41BCvmhIt",
        "outputId": "81a2266f-88ef-46e4-91cb-818b5d99213c"
      },
      "source": [
        "df_workhistory['INSP_GlobalID'].nunique()\n",
        "df_riskassessments['INSP_GlobalID'].nunique()"
      ],
      "execution_count": 13,
      "outputs": [
        {
          "output_type": "execute_result",
          "data": {
            "text/plain": [
              "2492"
            ]
          },
          "metadata": {},
          "execution_count": 13
        }
      ]
    },
    {
      "cell_type": "code",
      "metadata": {
        "id": "UOirj_j5mxt4"
      },
      "source": [
        "df_workhistory.drop_duplicates(inplace=True) #drop duplicate rows\n",
        "df_riskassessments.drop_duplicates(inplace=True) #drop duplicate rows"
      ],
      "execution_count": 14,
      "outputs": []
    },
    {
      "cell_type": "code",
      "metadata": {
        "colab": {
          "base_uri": "https://localhost:8080/"
        },
        "id": "5_N-NYj06rEv",
        "outputId": "b1b1061c-8e3e-48ef-d16c-1406bab98c4f"
      },
      "source": [
        "df_riskassessments.shape"
      ],
      "execution_count": 15,
      "outputs": [
        {
          "output_type": "execute_result",
          "data": {
            "text/plain": [
              "(2714, 12)"
            ]
          },
          "metadata": {},
          "execution_count": 15
        }
      ]
    },
    {
      "cell_type": "code",
      "metadata": {
        "colab": {
          "base_uri": "https://localhost:8080/"
        },
        "id": "YMuEnryw7yd-",
        "outputId": "9ea65fd7-9e37-4b1a-dca0-88b3d88d215b"
      },
      "source": [
        "df_workhistory.shape"
      ],
      "execution_count": 16,
      "outputs": [
        {
          "output_type": "execute_result",
          "data": {
            "text/plain": [
              "(5789, 25)"
            ]
          },
          "metadata": {},
          "execution_count": 16
        }
      ]
    },
    {
      "cell_type": "code",
      "metadata": {
        "colab": {
          "base_uri": "https://localhost:8080/"
        },
        "id": "usz0X7D2eOW0",
        "outputId": "bdf9e220-077b-46bf-8a86-1fea7b4940ef"
      },
      "source": [
        "dfi = df_workhistory[df_workhistory['IsReinspection'] == 'Yes']\n",
        "dfn = df_workhistory[df_workhistory['IsReinspection'] != 'Yes']\n",
        "\n",
        "dfi['INSP_GlobalID'].isin(dfn['INSP_GlobalID']).sum()\n",
        "\n",
        "# Confirm that the reinspection rows have different IDs "
      ],
      "execution_count": 17,
      "outputs": [
        {
          "output_type": "execute_result",
          "data": {
            "text/plain": [
              "0"
            ]
          },
          "metadata": {},
          "execution_count": 17
        }
      ]
    },
    {
      "cell_type": "code",
      "metadata": {
        "colab": {
          "base_uri": "https://localhost:8080/"
        },
        "id": "Q6AXUQnQ37n7",
        "outputId": "c54abeaf-a93a-4c0a-d5f3-b2019e016841"
      },
      "source": [
        "df_riskassessments['Tree_GlobalID'].nunique()"
      ],
      "execution_count": 18,
      "outputs": [
        {
          "output_type": "execute_result",
          "data": {
            "text/plain": [
              "1756"
            ]
          },
          "metadata": {},
          "execution_count": 18
        }
      ]
    },
    {
      "cell_type": "code",
      "metadata": {
        "colab": {
          "base_uri": "https://localhost:8080/"
        },
        "id": "R3Lzh2Y9sL2P",
        "outputId": "221ed1af-3e57-4bc0-8e83-edaa4afc4a07"
      },
      "source": [
        "dfi.shape"
      ],
      "execution_count": 19,
      "outputs": [
        {
          "output_type": "execute_result",
          "data": {
            "text/plain": [
              "(195, 25)"
            ]
          },
          "metadata": {},
          "execution_count": 19
        }
      ]
    },
    {
      "cell_type": "code",
      "metadata": {
        "colab": {
          "base_uri": "https://localhost:8080/"
        },
        "id": "QT8VPkQIsIXT",
        "outputId": "715047b4-c4d7-4dc2-9183-c7dd4816d96b"
      },
      "source": [
        "dfi['Tree_GlobalID'].isin(dfn['Tree_GlobalID']).sum()\n",
        "# For 193/195 entries, the Tree IDs match between the reinspection and first inspection...ideally all should match "
      ],
      "execution_count": 20,
      "outputs": [
        {
          "output_type": "execute_result",
          "data": {
            "text/plain": [
              "193"
            ]
          },
          "metadata": {},
          "execution_count": 20
        }
      ]
    },
    {
      "cell_type": "code",
      "metadata": {
        "colab": {
          "base_uri": "https://localhost:8080/",
          "height": 1000
        },
        "id": "sHLYNX255FwU",
        "outputId": "c34079ed-58fe-4b70-cf5a-f09d07a4ba42"
      },
      "source": [
        "df_workhistory.set_index(['INSP_GlobalID'])\n",
        "#df.groupby(['user_id', 'account_num', 'dates']).sales.sum().to_frame()\n"
      ],
      "execution_count": 21,
      "outputs": [
        {
          "output_type": "execute_result",
          "data": {
            "text/html": [
              "<div>\n",
              "<style scoped>\n",
              "    .dataframe tbody tr th:only-of-type {\n",
              "        vertical-align: middle;\n",
              "    }\n",
              "\n",
              "    .dataframe tbody tr th {\n",
              "        vertical-align: top;\n",
              "    }\n",
              "\n",
              "    .dataframe thead th {\n",
              "        text-align: right;\n",
              "    }\n",
              "</style>\n",
              "<table border=\"1\" class=\"dataframe\">\n",
              "  <thead>\n",
              "    <tr style=\"text-align: right;\">\n",
              "      <th></th>\n",
              "      <th>Tree_GlobalID</th>\n",
              "      <th>INSPID</th>\n",
              "      <th>AddressedFailure</th>\n",
              "      <th>INSP_InspectionDate</th>\n",
              "      <th>INSP_RiskRating</th>\n",
              "      <th>INSP_Type</th>\n",
              "      <th>IsReinspection</th>\n",
              "      <th>INSP_ReinspectionDate</th>\n",
              "      <th>INSP_ParentInspectionGlobalID</th>\n",
              "      <th>INSP_TreeCondition</th>\n",
              "      <th>INSP_TreeStructure</th>\n",
              "      <th>INSP_TreeDBH</th>\n",
              "      <th>INSP_Comments</th>\n",
              "      <th>WO_CreatedDate</th>\n",
              "      <th>WO_ActualFinishDate</th>\n",
              "      <th>WO_Type</th>\n",
              "      <th>WO_Status</th>\n",
              "      <th>SR_GlobalID</th>\n",
              "      <th>SR_Type</th>\n",
              "      <th>SR_Source</th>\n",
              "      <th>SR_Status</th>\n",
              "      <th>SR_ResolutionAction</th>\n",
              "      <th>SR_CreatedDate</th>\n",
              "      <th>SR_ClosedDate</th>\n",
              "    </tr>\n",
              "    <tr>\n",
              "      <th>INSP_GlobalID</th>\n",
              "      <th></th>\n",
              "      <th></th>\n",
              "      <th></th>\n",
              "      <th></th>\n",
              "      <th></th>\n",
              "      <th></th>\n",
              "      <th></th>\n",
              "      <th></th>\n",
              "      <th></th>\n",
              "      <th></th>\n",
              "      <th></th>\n",
              "      <th></th>\n",
              "      <th></th>\n",
              "      <th></th>\n",
              "      <th></th>\n",
              "      <th></th>\n",
              "      <th></th>\n",
              "      <th></th>\n",
              "      <th></th>\n",
              "      <th></th>\n",
              "      <th></th>\n",
              "      <th></th>\n",
              "      <th></th>\n",
              "      <th></th>\n",
              "    </tr>\n",
              "  </thead>\n",
              "  <tbody>\n",
              "    <tr>\n",
              "      <th>3322695F-96DD-4ED0-9444-AA1F3F52DFBC</th>\n",
              "      <td>7B9CC3BB-45E4-4317-863F-000052F2BAF8</td>\n",
              "      <td>6424892</td>\n",
              "      <td>No</td>\n",
              "      <td>9/18/2017 12:41 PM</td>\n",
              "      <td>Low (3)</td>\n",
              "      <td>Level 2</td>\n",
              "      <td>Yes</td>\n",
              "      <td>9/13/2017 7:17 AM</td>\n",
              "      <td>70BD3775-EF50-4B44-B5DB-34440BE0DEC7</td>\n",
              "      <td>Dead</td>\n",
              "      <td>Full</td>\n",
              "      <td>2.0</td>\n",
              "      <td>NaN</td>\n",
              "      <td>9/18/2017 12:41 PM</td>\n",
              "      <td>NaN</td>\n",
              "      <td>Tree Removal</td>\n",
              "      <td>Cancel</td>\n",
              "      <td>NaN</td>\n",
              "      <td>NaN</td>\n",
              "      <td>NaN</td>\n",
              "      <td>NaN</td>\n",
              "      <td>NaN</td>\n",
              "      <td>NaN</td>\n",
              "      <td>NaN</td>\n",
              "    </tr>\n",
              "    <tr>\n",
              "      <th>70BD3775-EF50-4B44-B5DB-34440BE0DEC7</th>\n",
              "      <td>7B9CC3BB-45E4-4317-863F-000052F2BAF8</td>\n",
              "      <td>6424893</td>\n",
              "      <td>No</td>\n",
              "      <td>8/30/2017 7:29 AM</td>\n",
              "      <td>NaN</td>\n",
              "      <td>Level 1</td>\n",
              "      <td>No</td>\n",
              "      <td>NaN</td>\n",
              "      <td>NaN</td>\n",
              "      <td>Dead</td>\n",
              "      <td>Full</td>\n",
              "      <td>2.0</td>\n",
              "      <td>BP17</td>\n",
              "      <td>NaN</td>\n",
              "      <td>NaN</td>\n",
              "      <td>NaN</td>\n",
              "      <td>NaN</td>\n",
              "      <td>NaN</td>\n",
              "      <td>NaN</td>\n",
              "      <td>NaN</td>\n",
              "      <td>NaN</td>\n",
              "      <td>NaN</td>\n",
              "      <td>NaN</td>\n",
              "      <td>NaN</td>\n",
              "    </tr>\n",
              "    <tr>\n",
              "      <th>A2AAC418-613F-4322-AD25-B90EB266069C</th>\n",
              "      <td>B23389DD-3EDC-41EB-8CA8-000981F5D64B</td>\n",
              "      <td>6004857</td>\n",
              "      <td>No</td>\n",
              "      <td>5/8/2017 9:24 AM</td>\n",
              "      <td>NaN</td>\n",
              "      <td>Level 1</td>\n",
              "      <td>No</td>\n",
              "      <td>NaN</td>\n",
              "      <td>NaN</td>\n",
              "      <td>Fair</td>\n",
              "      <td>Full</td>\n",
              "      <td>5.0</td>\n",
              "      <td>4F, Block Prune FY18</td>\n",
              "      <td>NaN</td>\n",
              "      <td>NaN</td>\n",
              "      <td>NaN</td>\n",
              "      <td>NaN</td>\n",
              "      <td>NaN</td>\n",
              "      <td>NaN</td>\n",
              "      <td>NaN</td>\n",
              "      <td>NaN</td>\n",
              "      <td>NaN</td>\n",
              "      <td>NaN</td>\n",
              "      <td>NaN</td>\n",
              "    </tr>\n",
              "    <tr>\n",
              "      <th>D82E21D1-E69E-4ECF-A7C4-4BE7FAE4864B</th>\n",
              "      <td>95E1F383-4504-4D1E-91BB-000AE2223385</td>\n",
              "      <td>6613156</td>\n",
              "      <td>No</td>\n",
              "      <td>10/31/2017 11:42 AM</td>\n",
              "      <td>NaN</td>\n",
              "      <td>Level 1</td>\n",
              "      <td>No</td>\n",
              "      <td>NaN</td>\n",
              "      <td>NaN</td>\n",
              "      <td>Good</td>\n",
              "      <td>Full</td>\n",
              "      <td>23.0</td>\n",
              "      <td>1F</td>\n",
              "      <td>10/31/2017 11:43 AM</td>\n",
              "      <td>NaN</td>\n",
              "      <td>Block Pruning</td>\n",
              "      <td>Cancel</td>\n",
              "      <td>NaN</td>\n",
              "      <td>NaN</td>\n",
              "      <td>NaN</td>\n",
              "      <td>NaN</td>\n",
              "      <td>NaN</td>\n",
              "      <td>NaN</td>\n",
              "      <td>NaN</td>\n",
              "    </tr>\n",
              "    <tr>\n",
              "      <th>A087568D-255B-4702-89AE-B1951C7F02AD</th>\n",
              "      <td>95E1F383-4504-4D1E-91BB-000AE2223385</td>\n",
              "      <td>7118171</td>\n",
              "      <td>No</td>\n",
              "      <td>3/6/2018 5:00 AM</td>\n",
              "      <td>NaN</td>\n",
              "      <td>Level 1</td>\n",
              "      <td>No</td>\n",
              "      <td>NaN</td>\n",
              "      <td>NaN</td>\n",
              "      <td>Critical</td>\n",
              "      <td>Full</td>\n",
              "      <td>21.0</td>\n",
              "      <td>TREE DOWN BLOCKING ENTRANCE OV THE HOUSE</td>\n",
              "      <td>NaN</td>\n",
              "      <td>NaN</td>\n",
              "      <td>NaN</td>\n",
              "      <td>NaN</td>\n",
              "      <td>791DF178-CF97-4C55-9934-6951C9D5492C</td>\n",
              "      <td>Tree Down - Sidewalk</td>\n",
              "      <td>Department of Parks and Recreation - Public We...</td>\n",
              "      <td>Closed</td>\n",
              "      <td>Work Completed</td>\n",
              "      <td>3/3/2018 4:12 PM</td>\n",
              "      <td>3/7/2018 8:58 PM</td>\n",
              "    </tr>\n",
              "    <tr>\n",
              "      <th>...</th>\n",
              "      <td>...</td>\n",
              "      <td>...</td>\n",
              "      <td>...</td>\n",
              "      <td>...</td>\n",
              "      <td>...</td>\n",
              "      <td>...</td>\n",
              "      <td>...</td>\n",
              "      <td>...</td>\n",
              "      <td>...</td>\n",
              "      <td>...</td>\n",
              "      <td>...</td>\n",
              "      <td>...</td>\n",
              "      <td>...</td>\n",
              "      <td>...</td>\n",
              "      <td>...</td>\n",
              "      <td>...</td>\n",
              "      <td>...</td>\n",
              "      <td>...</td>\n",
              "      <td>...</td>\n",
              "      <td>...</td>\n",
              "      <td>...</td>\n",
              "      <td>...</td>\n",
              "      <td>...</td>\n",
              "      <td>...</td>\n",
              "    </tr>\n",
              "    <tr>\n",
              "      <th>0708F62F-8379-4593-A59E-0B91A8FFB69D</th>\n",
              "      <td>95BA9143-87AE-422D-9164-FF89A1CE87BB</td>\n",
              "      <td>5135914</td>\n",
              "      <td>No</td>\n",
              "      <td>11/17/2016 8:23 AM</td>\n",
              "      <td>NaN</td>\n",
              "      <td>Level 1</td>\n",
              "      <td>No</td>\n",
              "      <td>NaN</td>\n",
              "      <td>NaN</td>\n",
              "      <td>Dead</td>\n",
              "      <td>Full</td>\n",
              "      <td>2.0</td>\n",
              "      <td>SMALL TREE DOWN/SEND CHIPPER</td>\n",
              "      <td>11/17/2016 8:25 AM</td>\n",
              "      <td>11/20/2016 5:00 AM</td>\n",
              "      <td>Tree Down</td>\n",
              "      <td>Closed</td>\n",
              "      <td>B7E3B70F-E1E8-4C30-ABCE-5DC8BDFAC72F</td>\n",
              "      <td>Tree Down - Sidewalk</td>\n",
              "      <td>3-1-1 Call Center</td>\n",
              "      <td>Closed</td>\n",
              "      <td>Work Completed</td>\n",
              "      <td>11/16/2016 10:58 PM</td>\n",
              "      <td>11/21/2016 2:25 PM</td>\n",
              "    </tr>\n",
              "    <tr>\n",
              "      <th>1713AD90-D4DD-42C2-86BA-8A24D311D7F4</th>\n",
              "      <td>95BA9143-87AE-422D-9164-FF89A1CE87BB</td>\n",
              "      <td>5172367</td>\n",
              "      <td>No</td>\n",
              "      <td>11/21/2016 8:01 PM</td>\n",
              "      <td>NaN</td>\n",
              "      <td>General - Planting Space</td>\n",
              "      <td>No</td>\n",
              "      <td>NaN</td>\n",
              "      <td>NaN</td>\n",
              "      <td>Dead</td>\n",
              "      <td>Stump</td>\n",
              "      <td>NaN</td>\n",
              "      <td>NaN</td>\n",
              "      <td>11/21/2016 8:02 PM</td>\n",
              "      <td>5/8/2017 4:00 AM</td>\n",
              "      <td>Tree Plant-Street Tree</td>\n",
              "      <td>Closed</td>\n",
              "      <td>F6E04201-1258-4C3F-B2C7-7213B388ABC4</td>\n",
              "      <td>Street Tree</td>\n",
              "      <td>3-1-1 Call Center</td>\n",
              "      <td>Closed</td>\n",
              "      <td>NaN</td>\n",
              "      <td>9/21/2016 9:36 AM</td>\n",
              "      <td>11/13/2018 4:16 PM</td>\n",
              "    </tr>\n",
              "    <tr>\n",
              "      <th>85391E9D-1454-49CE-AE49-504974935D4F</th>\n",
              "      <td>F3D0C2BB-34A5-46DD-93C2-FFB67E17F658</td>\n",
              "      <td>8069653</td>\n",
              "      <td>No</td>\n",
              "      <td>1/7/2019 11:38 AM</td>\n",
              "      <td>Low (6)</td>\n",
              "      <td>Level 2</td>\n",
              "      <td>No</td>\n",
              "      <td>NaN</td>\n",
              "      <td>NaN</td>\n",
              "      <td>Good</td>\n",
              "      <td>Full</td>\n",
              "      <td>21.0</td>\n",
              "      <td>L/L's/D, &amp; small d/w in tree, need chipper</td>\n",
              "      <td>1/7/2019 11:39 AM</td>\n",
              "      <td>1/22/2019 5:00 AM</td>\n",
              "      <td>Limb Down</td>\n",
              "      <td>Closed</td>\n",
              "      <td>NaN</td>\n",
              "      <td>NaN</td>\n",
              "      <td>NaN</td>\n",
              "      <td>NaN</td>\n",
              "      <td>NaN</td>\n",
              "      <td>NaN</td>\n",
              "      <td>NaN</td>\n",
              "    </tr>\n",
              "    <tr>\n",
              "      <th>8C4B7785-F411-4FE3-A11B-70F05C5B3035</th>\n",
              "      <td>8D246514-63DC-4F7C-A0E8-FFC68FE53BA7</td>\n",
              "      <td>9486641</td>\n",
              "      <td>No</td>\n",
              "      <td>1/7/2020 5:00 AM</td>\n",
              "      <td>Low (3)</td>\n",
              "      <td>Level 2</td>\n",
              "      <td>No</td>\n",
              "      <td>NaN</td>\n",
              "      <td>NaN</td>\n",
              "      <td>Good</td>\n",
              "      <td>Full</td>\n",
              "      <td>7.0</td>\n",
              "      <td>BP-FY20</td>\n",
              "      <td>1/7/2020 3:43 PM</td>\n",
              "      <td>2/25/2020 5:00 AM</td>\n",
              "      <td>Block Pruning</td>\n",
              "      <td>Closed</td>\n",
              "      <td>NaN</td>\n",
              "      <td>NaN</td>\n",
              "      <td>NaN</td>\n",
              "      <td>NaN</td>\n",
              "      <td>NaN</td>\n",
              "      <td>NaN</td>\n",
              "      <td>NaN</td>\n",
              "    </tr>\n",
              "    <tr>\n",
              "      <th>88723C4F-0A93-4BC1-9792-70D2074BC8A6</th>\n",
              "      <td>11778873-24D1-43C3-AB80-FFFAD8988674</td>\n",
              "      <td>3965096</td>\n",
              "      <td>No</td>\n",
              "      <td>7/14/2016 4:00 AM</td>\n",
              "      <td>NaN</td>\n",
              "      <td>Level 2</td>\n",
              "      <td>No</td>\n",
              "      <td>NaN</td>\n",
              "      <td>NaN</td>\n",
              "      <td>Good</td>\n",
              "      <td>Full</td>\n",
              "      <td>13.0</td>\n",
              "      <td>remove hl</td>\n",
              "      <td>7/18/2016 4:23 PM</td>\n",
              "      <td>7/14/2016 4:00 AM</td>\n",
              "      <td>Hanging Limb</td>\n",
              "      <td>Closed</td>\n",
              "      <td>NaN</td>\n",
              "      <td>NaN</td>\n",
              "      <td>NaN</td>\n",
              "      <td>NaN</td>\n",
              "      <td>NaN</td>\n",
              "      <td>NaN</td>\n",
              "      <td>NaN</td>\n",
              "    </tr>\n",
              "  </tbody>\n",
              "</table>\n",
              "<p>5789 rows × 24 columns</p>\n",
              "</div>"
            ],
            "text/plain": [
              "                                                             Tree_GlobalID  ...       SR_ClosedDate\n",
              "INSP_GlobalID                                                               ...                    \n",
              "3322695F-96DD-4ED0-9444-AA1F3F52DFBC  7B9CC3BB-45E4-4317-863F-000052F2BAF8  ...                 NaN\n",
              "70BD3775-EF50-4B44-B5DB-34440BE0DEC7  7B9CC3BB-45E4-4317-863F-000052F2BAF8  ...                 NaN\n",
              "A2AAC418-613F-4322-AD25-B90EB266069C  B23389DD-3EDC-41EB-8CA8-000981F5D64B  ...                 NaN\n",
              "D82E21D1-E69E-4ECF-A7C4-4BE7FAE4864B  95E1F383-4504-4D1E-91BB-000AE2223385  ...                 NaN\n",
              "A087568D-255B-4702-89AE-B1951C7F02AD  95E1F383-4504-4D1E-91BB-000AE2223385  ...    3/7/2018 8:58 PM\n",
              "...                                                                    ...  ...                 ...\n",
              "0708F62F-8379-4593-A59E-0B91A8FFB69D  95BA9143-87AE-422D-9164-FF89A1CE87BB  ...  11/21/2016 2:25 PM\n",
              "1713AD90-D4DD-42C2-86BA-8A24D311D7F4  95BA9143-87AE-422D-9164-FF89A1CE87BB  ...  11/13/2018 4:16 PM\n",
              "85391E9D-1454-49CE-AE49-504974935D4F  F3D0C2BB-34A5-46DD-93C2-FFB67E17F658  ...                 NaN\n",
              "8C4B7785-F411-4FE3-A11B-70F05C5B3035  8D246514-63DC-4F7C-A0E8-FFC68FE53BA7  ...                 NaN\n",
              "88723C4F-0A93-4BC1-9792-70D2074BC8A6  11778873-24D1-43C3-AB80-FFFAD8988674  ...                 NaN\n",
              "\n",
              "[5789 rows x 24 columns]"
            ]
          },
          "metadata": {},
          "execution_count": 21
        }
      ]
    },
    {
      "cell_type": "code",
      "metadata": {
        "id": "JPDW-Ce6cccP"
      },
      "source": [
        "# Merge 1 test - based on INSP_GlobalID\n",
        "merge_1 = pd.merge(df_workhistory, df_riskassessments, on='INSP_GlobalID', how='left')"
      ],
      "execution_count": 22,
      "outputs": []
    },
    {
      "cell_type": "code",
      "metadata": {
        "colab": {
          "base_uri": "https://localhost:8080/"
        },
        "id": "hBFJrw-1co-8",
        "outputId": "5ac95e86-e77a-4a02-80b5-f8b7614d3350"
      },
      "source": [
        "merge_1.shape"
      ],
      "execution_count": 23,
      "outputs": [
        {
          "output_type": "execute_result",
          "data": {
            "text/plain": [
              "(6013, 36)"
            ]
          },
          "metadata": {},
          "execution_count": 23
        }
      ]
    },
    {
      "cell_type": "code",
      "metadata": {
        "colab": {
          "base_uri": "https://localhost:8080/"
        },
        "id": "gkyF_Jl9HPAn",
        "outputId": "9f87f124-89f2-4b34-eff0-3187ae6030ed"
      },
      "source": [
        "df_riskassessments.shape"
      ],
      "execution_count": 24,
      "outputs": [
        {
          "output_type": "execute_result",
          "data": {
            "text/plain": [
              "(2714, 12)"
            ]
          },
          "metadata": {},
          "execution_count": 24
        }
      ]
    },
    {
      "cell_type": "code",
      "metadata": {
        "colab": {
          "base_uri": "https://localhost:8080/"
        },
        "id": "UQtlu6h_HSK2",
        "outputId": "02ce2f0d-a647-4154-de7e-09a8efaa081b"
      },
      "source": [
        "df_workhistory.shape"
      ],
      "execution_count": 25,
      "outputs": [
        {
          "output_type": "execute_result",
          "data": {
            "text/plain": [
              "(5789, 25)"
            ]
          },
          "metadata": {},
          "execution_count": 25
        }
      ]
    },
    {
      "cell_type": "code",
      "metadata": {
        "colab": {
          "base_uri": "https://localhost:8080/"
        },
        "id": "_vFAZOkNI9Tt",
        "outputId": "893e809b-0d98-4a90-c6b3-24f5c23f739e"
      },
      "source": [
        "df_riskassessments['INSP_GlobalID'].isin(df_workhistory['INSP_GlobalID']).all()"
      ],
      "execution_count": 26,
      "outputs": [
        {
          "output_type": "execute_result",
          "data": {
            "text/plain": [
              "True"
            ]
          },
          "metadata": {},
          "execution_count": 26
        }
      ]
    },
    {
      "cell_type": "code",
      "metadata": {
        "colab": {
          "base_uri": "https://localhost:8080/"
        },
        "id": "-wU-HGiSJI-S",
        "outputId": "e5b1612f-f591-43d4-88d5-1e3c7b2dfbb1"
      },
      "source": [
        "df_workhistory['INSP_GlobalID'].isin(df_sr['INSP GlobalID']).sum()\n",
        "# only 1149 of the 5796 workhistory entries are in the SR dataset"
      ],
      "execution_count": 30,
      "outputs": [
        {
          "output_type": "execute_result",
          "data": {
            "text/plain": [
              "1149"
            ]
          },
          "metadata": {},
          "execution_count": 30
        }
      ]
    },
    {
      "cell_type": "code",
      "metadata": {
        "colab": {
          "base_uri": "https://localhost:8080/",
          "height": 434
        },
        "id": "AUAPIo6TJnUk",
        "outputId": "9579b68d-4332-4a3c-dfc0-86cf594aa352"
      },
      "source": [
        "df_failedtrees.head()"
      ],
      "execution_count": 31,
      "outputs": [
        {
          "output_type": "execute_result",
          "data": {
            "text/html": [
              "<div>\n",
              "<style scoped>\n",
              "    .dataframe tbody tr th:only-of-type {\n",
              "        vertical-align: middle;\n",
              "    }\n",
              "\n",
              "    .dataframe tbody tr th {\n",
              "        vertical-align: top;\n",
              "    }\n",
              "\n",
              "    .dataframe thead th {\n",
              "        text-align: right;\n",
              "    }\n",
              "</style>\n",
              "<table border=\"1\" class=\"dataframe\">\n",
              "  <thead>\n",
              "    <tr style=\"text-align: right;\">\n",
              "      <th></th>\n",
              "      <th>Tree_GlobalID</th>\n",
              "      <th>Tree_CreatedDate</th>\n",
              "      <th>Tree_Species</th>\n",
              "      <th>PostFail_SR_GlobalID</th>\n",
              "      <th>PostFail_SR_Type</th>\n",
              "      <th>PostFail_SR_Source</th>\n",
              "      <th>PostFail_SR_ResolutionAction</th>\n",
              "      <th>PostFail_SR_CreatedDate</th>\n",
              "      <th>PostFail_SR_CreatedYear</th>\n",
              "      <th>PostFail_SR_ClosedDate</th>\n",
              "      <th>NumberOfDuplicateSRs</th>\n",
              "      <th>PostFail_INSP_GlobalID</th>\n",
              "      <th>PostFail_INSP_InspectionDate</th>\n",
              "      <th>PostFail_INSP_Type</th>\n",
              "      <th>PostFail_INSP_Status</th>\n",
              "      <th>PostFail_INSP_Condition</th>\n",
              "      <th>PostFail_INSP_DBH</th>\n",
              "      <th>PostFail_INSP_Structure</th>\n",
              "      <th>PostFail_INSP_TRM</th>\n",
              "      <th>PostFail_WO_GlobalID</th>\n",
              "      <th>PostFail_WO_Type</th>\n",
              "      <th>DaysSinceInspection</th>\n",
              "      <th>PreFail_INSP_GlobalID</th>\n",
              "      <th>PreFail_INSP_InspectionDate</th>\n",
              "      <th>PreFail_INSP_Type</th>\n",
              "      <th>PreFail_INSP_Status</th>\n",
              "      <th>PreFail_INSP_Condition</th>\n",
              "      <th>PreFail_INSP_DBH</th>\n",
              "      <th>PreFail_INSP_Structure</th>\n",
              "      <th>PreFail_INSP_Rating</th>\n",
              "      <th>PreFail_INSP_TRM</th>\n",
              "      <th>Borough</th>\n",
              "      <th>CommunityBoard</th>\n",
              "      <th>CityCouncil</th>\n",
              "      <th>BuildingNumber</th>\n",
              "      <th>StreetName</th>\n",
              "      <th>TreeLocation</th>\n",
              "      <th>Shape</th>\n",
              "      <th>X_Coord</th>\n",
              "      <th>Y_Coord</th>\n",
              "      <th>FailedDuringStorm</th>\n",
              "    </tr>\n",
              "  </thead>\n",
              "  <tbody>\n",
              "    <tr>\n",
              "      <th>0</th>\n",
              "      <td>37195E1A-A7EE-4AA4-8389-19A0ED5C46F7</td>\n",
              "      <td>3/3/2015 5:00 AM</td>\n",
              "      <td>Fraxinus pennsylvanica - Green ash</td>\n",
              "      <td>3E4FEC6D-8178-4B69-B27D-5ED8DA5924E5</td>\n",
              "      <td>Tree Down - Street</td>\n",
              "      <td>3-1-1 Call Center</td>\n",
              "      <td>Work Completed</td>\n",
              "      <td>3/3/2015 5:00 AM</td>\n",
              "      <td>2015.0</td>\n",
              "      <td>3/3/2015 5:00 AM</td>\n",
              "      <td>0.0</td>\n",
              "      <td>E340A03F-0BCA-4901-9664-F75FB4F17EB0</td>\n",
              "      <td>3/2/2015 5:00 AM</td>\n",
              "      <td>Level 1</td>\n",
              "      <td>Closed</td>\n",
              "      <td>Good</td>\n",
              "      <td>10.0</td>\n",
              "      <td>Full</td>\n",
              "      <td>No</td>\n",
              "      <td>084427D3-D35D-4B23-81AD-F0DD8D235596</td>\n",
              "      <td>Tree Down</td>\n",
              "      <td>NaN</td>\n",
              "      <td>NaN</td>\n",
              "      <td>NaN</td>\n",
              "      <td>NaN</td>\n",
              "      <td>NaN</td>\n",
              "      <td>NaN</td>\n",
              "      <td>NaN</td>\n",
              "      <td>NaN</td>\n",
              "      <td>NaN</td>\n",
              "      <td>No</td>\n",
              "      <td>Manhattan</td>\n",
              "      <td>110</td>\n",
              "      <td>9.0</td>\n",
              "      <td>10</td>\n",
              "      <td>WEST 135 STREET</td>\n",
              "      <td>Street</td>\n",
              "      <td>0xD7080000010C80894E9B7E8E2E4100B63630B2BE0C41</td>\n",
              "      <td>1.001279e+06</td>\n",
              "      <td>235478.2735</td>\n",
              "      <td>No</td>\n",
              "    </tr>\n",
              "    <tr>\n",
              "      <th>1</th>\n",
              "      <td>8717EC83-F165-495A-A1AA-1064173A681F</td>\n",
              "      <td>3/4/2015 5:00 AM</td>\n",
              "      <td>Zelkova serrata - Japanese zelkova</td>\n",
              "      <td>AE9E5D8E-DEF9-444A-B0A8-234462E7FC94</td>\n",
              "      <td>Tree Down - Sidewalk</td>\n",
              "      <td>3-1-1 Call Center</td>\n",
              "      <td>Work Completed</td>\n",
              "      <td>3/4/2015 5:00 AM</td>\n",
              "      <td>2015.0</td>\n",
              "      <td>3/4/2015 5:00 AM</td>\n",
              "      <td>0.0</td>\n",
              "      <td>FBDF1100-326D-494D-AA78-0E1626939B95</td>\n",
              "      <td>3/3/2015 5:00 AM</td>\n",
              "      <td>Level 2</td>\n",
              "      <td>Closed</td>\n",
              "      <td>Critical</td>\n",
              "      <td>12.0</td>\n",
              "      <td>Full</td>\n",
              "      <td>No</td>\n",
              "      <td>44B18003-FE79-4AC1-8F57-5C7724886057</td>\n",
              "      <td>Tree Down</td>\n",
              "      <td>NaN</td>\n",
              "      <td>NaN</td>\n",
              "      <td>NaN</td>\n",
              "      <td>NaN</td>\n",
              "      <td>NaN</td>\n",
              "      <td>NaN</td>\n",
              "      <td>NaN</td>\n",
              "      <td>NaN</td>\n",
              "      <td>NaN</td>\n",
              "      <td>No</td>\n",
              "      <td>Manhattan</td>\n",
              "      <td>107</td>\n",
              "      <td>7.0</td>\n",
              "      <td>808</td>\n",
              "      <td>COLUMBUS AV</td>\n",
              "      <td>Street</td>\n",
              "      <td>0xD7080000010C8060F2630E532E41003885CB93F30B41</td>\n",
              "      <td>9.936712e+05</td>\n",
              "      <td>228978.4744</td>\n",
              "      <td>No</td>\n",
              "    </tr>\n",
              "    <tr>\n",
              "      <th>2</th>\n",
              "      <td>F763D1C0-3020-434A-AD05-F61D69CEC648</td>\n",
              "      <td>3/8/2015 5:00 AM</td>\n",
              "      <td>Pyrus calleryana - Callery pear</td>\n",
              "      <td>0EBCBE65-0135-45B9-A7CB-0AB6FA4118A5</td>\n",
              "      <td>Tree Down - Sidewalk</td>\n",
              "      <td>Department of Parks and Recreation - Public We...</td>\n",
              "      <td>Work Completed</td>\n",
              "      <td>10/30/2017 3:08 PM</td>\n",
              "      <td>2017.0</td>\n",
              "      <td>11/1/2017 7:59 AM</td>\n",
              "      <td>2.0</td>\n",
              "      <td>429E0219-6229-49E5-8220-A04588A0F3CD</td>\n",
              "      <td>10/30/2017 4:00 AM</td>\n",
              "      <td>Level 2</td>\n",
              "      <td>Closed</td>\n",
              "      <td>Poor</td>\n",
              "      <td>10.0</td>\n",
              "      <td>Full</td>\n",
              "      <td>Yes</td>\n",
              "      <td>F6EE5379-9540-4A43-8473-351AA53858F8</td>\n",
              "      <td>Tree Down</td>\n",
              "      <td>791.0</td>\n",
              "      <td>32C71160-CA25-424A-99E6-99F539E3E050</td>\n",
              "      <td>8/31/2015 4:00 AM</td>\n",
              "      <td>Level 2</td>\n",
              "      <td>Closed</td>\n",
              "      <td>Poor</td>\n",
              "      <td>11.0</td>\n",
              "      <td>Full</td>\n",
              "      <td>NaN</td>\n",
              "      <td>No</td>\n",
              "      <td>Manhattan</td>\n",
              "      <td>104</td>\n",
              "      <td>3.0</td>\n",
              "      <td>340</td>\n",
              "      <td>WEST  50 STREET</td>\n",
              "      <td>Street</td>\n",
              "      <td>0xD7080000010C00C758020B242E41001800E035840A41</td>\n",
              "      <td>9.876535e+05</td>\n",
              "      <td>217222.7344</td>\n",
              "      <td>No</td>\n",
              "    </tr>\n",
              "    <tr>\n",
              "      <th>3</th>\n",
              "      <td>925EB161-3E0B-4F73-B45A-257B03DAF1E0</td>\n",
              "      <td>3/9/2015 4:00 AM</td>\n",
              "      <td>Pyrus calleryana - Callery pear</td>\n",
              "      <td>789317A7-7A63-4D99-B2A5-CAA00AA7403C</td>\n",
              "      <td>Limb Down - Other</td>\n",
              "      <td>3-1-1 Call Center</td>\n",
              "      <td>Work Completed</td>\n",
              "      <td>3/6/2015 5:00 AM</td>\n",
              "      <td>2015.0</td>\n",
              "      <td>3/8/2015 5:00 AM</td>\n",
              "      <td>0.0</td>\n",
              "      <td>2B3B1983-B80C-412A-9345-9D4BBF69600A</td>\n",
              "      <td>3/3/2015 5:00 AM</td>\n",
              "      <td>Level 1</td>\n",
              "      <td>Closed</td>\n",
              "      <td>Poor</td>\n",
              "      <td>4.0</td>\n",
              "      <td>Full</td>\n",
              "      <td>No</td>\n",
              "      <td>857D2135-81ED-42ED-A365-A5D9A4581E18</td>\n",
              "      <td>Tree Down</td>\n",
              "      <td>NaN</td>\n",
              "      <td>NaN</td>\n",
              "      <td>NaN</td>\n",
              "      <td>NaN</td>\n",
              "      <td>NaN</td>\n",
              "      <td>NaN</td>\n",
              "      <td>NaN</td>\n",
              "      <td>NaN</td>\n",
              "      <td>NaN</td>\n",
              "      <td>No</td>\n",
              "      <td>Manhattan</td>\n",
              "      <td>103</td>\n",
              "      <td>2.0</td>\n",
              "      <td>251</td>\n",
              "      <td>EAST 13 STREET</td>\n",
              "      <td>Street</td>\n",
              "      <td>0xD7080000010C00AF0DB46E282E41000A8C0582220941</td>\n",
              "      <td>9.882154e+05</td>\n",
              "      <td>205904.2527</td>\n",
              "      <td>No</td>\n",
              "    </tr>\n",
              "    <tr>\n",
              "      <th>4</th>\n",
              "      <td>560AADE4-1A81-443D-ADBA-412DCEF4899A</td>\n",
              "      <td>3/10/2015 4:00 AM</td>\n",
              "      <td>Ginkgo biloba - maidenhair tree</td>\n",
              "      <td>BD79972E-A3AE-4020-A5FF-3286AAFA8C01</td>\n",
              "      <td>Unauthorized Tree Removal</td>\n",
              "      <td>3-1-1 Call Center</td>\n",
              "      <td>Work Completed</td>\n",
              "      <td>3/6/2015 5:00 AM</td>\n",
              "      <td>2015.0</td>\n",
              "      <td>3/13/2015 4:00 AM</td>\n",
              "      <td>0.0</td>\n",
              "      <td>F0583608-5B94-4AC8-8800-F2CEE3410312</td>\n",
              "      <td>3/9/2015 4:00 AM</td>\n",
              "      <td>Level 1</td>\n",
              "      <td>Closed</td>\n",
              "      <td>Critical</td>\n",
              "      <td>2.0</td>\n",
              "      <td>Full</td>\n",
              "      <td>No</td>\n",
              "      <td>243A4BA3-EC85-47FA-80BF-C59BAC177CB6</td>\n",
              "      <td>Tree Down</td>\n",
              "      <td>NaN</td>\n",
              "      <td>NaN</td>\n",
              "      <td>NaN</td>\n",
              "      <td>NaN</td>\n",
              "      <td>NaN</td>\n",
              "      <td>NaN</td>\n",
              "      <td>NaN</td>\n",
              "      <td>NaN</td>\n",
              "      <td>NaN</td>\n",
              "      <td>No</td>\n",
              "      <td>Brooklyn</td>\n",
              "      <td>307</td>\n",
              "      <td>38.0</td>\n",
              "      <td>187</td>\n",
              "      <td>18 STREET</td>\n",
              "      <td>Street</td>\n",
              "      <td>0xD7080000010C80416D80B9172E410086A0D3C91F0641</td>\n",
              "      <td>9.860768e+05</td>\n",
              "      <td>181241.2283</td>\n",
              "      <td>No</td>\n",
              "    </tr>\n",
              "  </tbody>\n",
              "</table>\n",
              "</div>"
            ],
            "text/plain": [
              "                          Tree_GlobalID  ... FailedDuringStorm\n",
              "0  37195E1A-A7EE-4AA4-8389-19A0ED5C46F7  ...                No\n",
              "1  8717EC83-F165-495A-A1AA-1064173A681F  ...                No\n",
              "2  F763D1C0-3020-434A-AD05-F61D69CEC648  ...                No\n",
              "3  925EB161-3E0B-4F73-B45A-257B03DAF1E0  ...                No\n",
              "4  560AADE4-1A81-443D-ADBA-412DCEF4899A  ...                No\n",
              "\n",
              "[5 rows x 41 columns]"
            ]
          },
          "metadata": {},
          "execution_count": 31
        }
      ]
    },
    {
      "cell_type": "code",
      "metadata": {
        "colab": {
          "base_uri": "https://localhost:8080/"
        },
        "id": "5HykbIUVKK--",
        "outputId": "dad630c6-8285-4c2e-acfd-a2c08f6d9c55"
      },
      "source": [
        "print(pd.to_datetime(df_sr['InspectionDate']).min())\n",
        "print(pd.to_datetime(df_sr['InspectionDate']).max())"
      ],
      "execution_count": 34,
      "outputs": [
        {
          "output_type": "stream",
          "name": "stdout",
          "text": [
            "1900-01-01 00:00:00\n",
            "2021-10-20 16:33:00\n"
          ]
        }
      ]
    },
    {
      "cell_type": "code",
      "metadata": {
        "colab": {
          "base_uri": "https://localhost:8080/"
        },
        "id": "vir-HDzGNlOV",
        "outputId": "397637a2-4ab6-4171-8214-df62a66eddcb"
      },
      "source": [
        "df_sr.shape"
      ],
      "execution_count": 33,
      "outputs": [
        {
          "output_type": "execute_result",
          "data": {
            "text/plain": [
              "(233609, 42)"
            ]
          },
          "metadata": {},
          "execution_count": 33
        }
      ]
    },
    {
      "cell_type": "code",
      "metadata": {
        "colab": {
          "base_uri": "https://localhost:8080/"
        },
        "id": "OVF9c2O4NcKf",
        "outputId": "04e6f620-0d37-425b-b1dd-1719b1d1d495"
      },
      "source": [
        "df_sr['InspectionDate'] =  pd.to_datetime(df_sr['InspectionDate'])\n",
        "df_sr[df_sr['InspectionDate'] > datetime.datetime(2010, 1, 1)]['InspectionDate'].min()"
      ],
      "execution_count": 35,
      "outputs": [
        {
          "output_type": "execute_result",
          "data": {
            "text/plain": [
              "Timestamp('2014-09-24 04:00:00')"
            ]
          },
          "metadata": {},
          "execution_count": 35
        }
      ]
    },
    {
      "cell_type": "code",
      "metadata": {
        "colab": {
          "base_uri": "https://localhost:8080/"
        },
        "id": "e6NZZ065P4BY",
        "outputId": "e2c31eb5-6e96-4afb-84d1-6fc0abc1f87f"
      },
      "source": [
        "print(pd.to_datetime(df_workhistory['INSP_InspectionDate']).min())\n",
        "print(pd.to_datetime(df_workhistory['INSP_InspectionDate']).max())"
      ],
      "execution_count": 36,
      "outputs": [
        {
          "output_type": "stream",
          "name": "stdout",
          "text": [
            "2012-10-11 04:00:00\n",
            "2021-06-09 11:49:00\n"
          ]
        }
      ]
    },
    {
      "cell_type": "code",
      "metadata": {
        "colab": {
          "base_uri": "https://localhost:8080/"
        },
        "id": "cvBSx5RkOs9t",
        "outputId": "f5f153b7-bf66-4053-c3fa-0fb211ac471a"
      },
      "source": [
        "# WH ranges from 2012 to 2021 and SR ranges from 2014 - 2021\n",
        "# How many of WH values are not in SR? 5796 - 1149 = 4647\n",
        "# When did these happen? All before 2014? Definitely not\n",
        "df_workhistory['INSP_InspectionDate'] =  pd.to_datetime(df_workhistory['INSP_InspectionDate'])\n",
        "df_workhistory[df_workhistory['INSP_InspectionDate'] < datetime.datetime(2015, 1, 1)].count()"
      ],
      "execution_count": 37,
      "outputs": [
        {
          "output_type": "execute_result",
          "data": {
            "text/plain": [
              "Tree_GlobalID          10\n",
              "INSPID                 10\n",
              "INSP_GlobalID          10\n",
              "AddressedFailure       10\n",
              "INSP_InspectionDate    10\n",
              "                       ..\n",
              "SR_Source               0\n",
              "SR_Status               0\n",
              "SR_ResolutionAction     0\n",
              "SR_CreatedDate          0\n",
              "SR_ClosedDate           0\n",
              "Length: 25, dtype: int64"
            ]
          },
          "metadata": {},
          "execution_count": 37
        }
      ]
    },
    {
      "cell_type": "code",
      "metadata": {
        "id": "s5Q0AaI0SJ-v",
        "colab": {
          "base_uri": "https://localhost:8080/",
          "height": 434
        },
        "outputId": "74a4bf2f-ace6-4a60-eb08-33e8aa1df532"
      },
      "source": [
        "df_failedtrees.head()"
      ],
      "execution_count": 38,
      "outputs": [
        {
          "output_type": "execute_result",
          "data": {
            "text/html": [
              "<div>\n",
              "<style scoped>\n",
              "    .dataframe tbody tr th:only-of-type {\n",
              "        vertical-align: middle;\n",
              "    }\n",
              "\n",
              "    .dataframe tbody tr th {\n",
              "        vertical-align: top;\n",
              "    }\n",
              "\n",
              "    .dataframe thead th {\n",
              "        text-align: right;\n",
              "    }\n",
              "</style>\n",
              "<table border=\"1\" class=\"dataframe\">\n",
              "  <thead>\n",
              "    <tr style=\"text-align: right;\">\n",
              "      <th></th>\n",
              "      <th>Tree_GlobalID</th>\n",
              "      <th>Tree_CreatedDate</th>\n",
              "      <th>Tree_Species</th>\n",
              "      <th>PostFail_SR_GlobalID</th>\n",
              "      <th>PostFail_SR_Type</th>\n",
              "      <th>PostFail_SR_Source</th>\n",
              "      <th>PostFail_SR_ResolutionAction</th>\n",
              "      <th>PostFail_SR_CreatedDate</th>\n",
              "      <th>PostFail_SR_CreatedYear</th>\n",
              "      <th>PostFail_SR_ClosedDate</th>\n",
              "      <th>NumberOfDuplicateSRs</th>\n",
              "      <th>PostFail_INSP_GlobalID</th>\n",
              "      <th>PostFail_INSP_InspectionDate</th>\n",
              "      <th>PostFail_INSP_Type</th>\n",
              "      <th>PostFail_INSP_Status</th>\n",
              "      <th>PostFail_INSP_Condition</th>\n",
              "      <th>PostFail_INSP_DBH</th>\n",
              "      <th>PostFail_INSP_Structure</th>\n",
              "      <th>PostFail_INSP_TRM</th>\n",
              "      <th>PostFail_WO_GlobalID</th>\n",
              "      <th>PostFail_WO_Type</th>\n",
              "      <th>DaysSinceInspection</th>\n",
              "      <th>PreFail_INSP_GlobalID</th>\n",
              "      <th>PreFail_INSP_InspectionDate</th>\n",
              "      <th>PreFail_INSP_Type</th>\n",
              "      <th>PreFail_INSP_Status</th>\n",
              "      <th>PreFail_INSP_Condition</th>\n",
              "      <th>PreFail_INSP_DBH</th>\n",
              "      <th>PreFail_INSP_Structure</th>\n",
              "      <th>PreFail_INSP_Rating</th>\n",
              "      <th>PreFail_INSP_TRM</th>\n",
              "      <th>Borough</th>\n",
              "      <th>CommunityBoard</th>\n",
              "      <th>CityCouncil</th>\n",
              "      <th>BuildingNumber</th>\n",
              "      <th>StreetName</th>\n",
              "      <th>TreeLocation</th>\n",
              "      <th>Shape</th>\n",
              "      <th>X_Coord</th>\n",
              "      <th>Y_Coord</th>\n",
              "      <th>FailedDuringStorm</th>\n",
              "    </tr>\n",
              "  </thead>\n",
              "  <tbody>\n",
              "    <tr>\n",
              "      <th>0</th>\n",
              "      <td>37195E1A-A7EE-4AA4-8389-19A0ED5C46F7</td>\n",
              "      <td>3/3/2015 5:00 AM</td>\n",
              "      <td>Fraxinus pennsylvanica - Green ash</td>\n",
              "      <td>3E4FEC6D-8178-4B69-B27D-5ED8DA5924E5</td>\n",
              "      <td>Tree Down - Street</td>\n",
              "      <td>3-1-1 Call Center</td>\n",
              "      <td>Work Completed</td>\n",
              "      <td>3/3/2015 5:00 AM</td>\n",
              "      <td>2015.0</td>\n",
              "      <td>3/3/2015 5:00 AM</td>\n",
              "      <td>0.0</td>\n",
              "      <td>E340A03F-0BCA-4901-9664-F75FB4F17EB0</td>\n",
              "      <td>3/2/2015 5:00 AM</td>\n",
              "      <td>Level 1</td>\n",
              "      <td>Closed</td>\n",
              "      <td>Good</td>\n",
              "      <td>10.0</td>\n",
              "      <td>Full</td>\n",
              "      <td>No</td>\n",
              "      <td>084427D3-D35D-4B23-81AD-F0DD8D235596</td>\n",
              "      <td>Tree Down</td>\n",
              "      <td>NaN</td>\n",
              "      <td>NaN</td>\n",
              "      <td>NaN</td>\n",
              "      <td>NaN</td>\n",
              "      <td>NaN</td>\n",
              "      <td>NaN</td>\n",
              "      <td>NaN</td>\n",
              "      <td>NaN</td>\n",
              "      <td>NaN</td>\n",
              "      <td>No</td>\n",
              "      <td>Manhattan</td>\n",
              "      <td>110</td>\n",
              "      <td>9.0</td>\n",
              "      <td>10</td>\n",
              "      <td>WEST 135 STREET</td>\n",
              "      <td>Street</td>\n",
              "      <td>0xD7080000010C80894E9B7E8E2E4100B63630B2BE0C41</td>\n",
              "      <td>1.001279e+06</td>\n",
              "      <td>235478.2735</td>\n",
              "      <td>No</td>\n",
              "    </tr>\n",
              "    <tr>\n",
              "      <th>1</th>\n",
              "      <td>8717EC83-F165-495A-A1AA-1064173A681F</td>\n",
              "      <td>3/4/2015 5:00 AM</td>\n",
              "      <td>Zelkova serrata - Japanese zelkova</td>\n",
              "      <td>AE9E5D8E-DEF9-444A-B0A8-234462E7FC94</td>\n",
              "      <td>Tree Down - Sidewalk</td>\n",
              "      <td>3-1-1 Call Center</td>\n",
              "      <td>Work Completed</td>\n",
              "      <td>3/4/2015 5:00 AM</td>\n",
              "      <td>2015.0</td>\n",
              "      <td>3/4/2015 5:00 AM</td>\n",
              "      <td>0.0</td>\n",
              "      <td>FBDF1100-326D-494D-AA78-0E1626939B95</td>\n",
              "      <td>3/3/2015 5:00 AM</td>\n",
              "      <td>Level 2</td>\n",
              "      <td>Closed</td>\n",
              "      <td>Critical</td>\n",
              "      <td>12.0</td>\n",
              "      <td>Full</td>\n",
              "      <td>No</td>\n",
              "      <td>44B18003-FE79-4AC1-8F57-5C7724886057</td>\n",
              "      <td>Tree Down</td>\n",
              "      <td>NaN</td>\n",
              "      <td>NaN</td>\n",
              "      <td>NaN</td>\n",
              "      <td>NaN</td>\n",
              "      <td>NaN</td>\n",
              "      <td>NaN</td>\n",
              "      <td>NaN</td>\n",
              "      <td>NaN</td>\n",
              "      <td>NaN</td>\n",
              "      <td>No</td>\n",
              "      <td>Manhattan</td>\n",
              "      <td>107</td>\n",
              "      <td>7.0</td>\n",
              "      <td>808</td>\n",
              "      <td>COLUMBUS AV</td>\n",
              "      <td>Street</td>\n",
              "      <td>0xD7080000010C8060F2630E532E41003885CB93F30B41</td>\n",
              "      <td>9.936712e+05</td>\n",
              "      <td>228978.4744</td>\n",
              "      <td>No</td>\n",
              "    </tr>\n",
              "    <tr>\n",
              "      <th>2</th>\n",
              "      <td>F763D1C0-3020-434A-AD05-F61D69CEC648</td>\n",
              "      <td>3/8/2015 5:00 AM</td>\n",
              "      <td>Pyrus calleryana - Callery pear</td>\n",
              "      <td>0EBCBE65-0135-45B9-A7CB-0AB6FA4118A5</td>\n",
              "      <td>Tree Down - Sidewalk</td>\n",
              "      <td>Department of Parks and Recreation - Public We...</td>\n",
              "      <td>Work Completed</td>\n",
              "      <td>10/30/2017 3:08 PM</td>\n",
              "      <td>2017.0</td>\n",
              "      <td>11/1/2017 7:59 AM</td>\n",
              "      <td>2.0</td>\n",
              "      <td>429E0219-6229-49E5-8220-A04588A0F3CD</td>\n",
              "      <td>10/30/2017 4:00 AM</td>\n",
              "      <td>Level 2</td>\n",
              "      <td>Closed</td>\n",
              "      <td>Poor</td>\n",
              "      <td>10.0</td>\n",
              "      <td>Full</td>\n",
              "      <td>Yes</td>\n",
              "      <td>F6EE5379-9540-4A43-8473-351AA53858F8</td>\n",
              "      <td>Tree Down</td>\n",
              "      <td>791.0</td>\n",
              "      <td>32C71160-CA25-424A-99E6-99F539E3E050</td>\n",
              "      <td>8/31/2015 4:00 AM</td>\n",
              "      <td>Level 2</td>\n",
              "      <td>Closed</td>\n",
              "      <td>Poor</td>\n",
              "      <td>11.0</td>\n",
              "      <td>Full</td>\n",
              "      <td>NaN</td>\n",
              "      <td>No</td>\n",
              "      <td>Manhattan</td>\n",
              "      <td>104</td>\n",
              "      <td>3.0</td>\n",
              "      <td>340</td>\n",
              "      <td>WEST  50 STREET</td>\n",
              "      <td>Street</td>\n",
              "      <td>0xD7080000010C00C758020B242E41001800E035840A41</td>\n",
              "      <td>9.876535e+05</td>\n",
              "      <td>217222.7344</td>\n",
              "      <td>No</td>\n",
              "    </tr>\n",
              "    <tr>\n",
              "      <th>3</th>\n",
              "      <td>925EB161-3E0B-4F73-B45A-257B03DAF1E0</td>\n",
              "      <td>3/9/2015 4:00 AM</td>\n",
              "      <td>Pyrus calleryana - Callery pear</td>\n",
              "      <td>789317A7-7A63-4D99-B2A5-CAA00AA7403C</td>\n",
              "      <td>Limb Down - Other</td>\n",
              "      <td>3-1-1 Call Center</td>\n",
              "      <td>Work Completed</td>\n",
              "      <td>3/6/2015 5:00 AM</td>\n",
              "      <td>2015.0</td>\n",
              "      <td>3/8/2015 5:00 AM</td>\n",
              "      <td>0.0</td>\n",
              "      <td>2B3B1983-B80C-412A-9345-9D4BBF69600A</td>\n",
              "      <td>3/3/2015 5:00 AM</td>\n",
              "      <td>Level 1</td>\n",
              "      <td>Closed</td>\n",
              "      <td>Poor</td>\n",
              "      <td>4.0</td>\n",
              "      <td>Full</td>\n",
              "      <td>No</td>\n",
              "      <td>857D2135-81ED-42ED-A365-A5D9A4581E18</td>\n",
              "      <td>Tree Down</td>\n",
              "      <td>NaN</td>\n",
              "      <td>NaN</td>\n",
              "      <td>NaN</td>\n",
              "      <td>NaN</td>\n",
              "      <td>NaN</td>\n",
              "      <td>NaN</td>\n",
              "      <td>NaN</td>\n",
              "      <td>NaN</td>\n",
              "      <td>NaN</td>\n",
              "      <td>No</td>\n",
              "      <td>Manhattan</td>\n",
              "      <td>103</td>\n",
              "      <td>2.0</td>\n",
              "      <td>251</td>\n",
              "      <td>EAST 13 STREET</td>\n",
              "      <td>Street</td>\n",
              "      <td>0xD7080000010C00AF0DB46E282E41000A8C0582220941</td>\n",
              "      <td>9.882154e+05</td>\n",
              "      <td>205904.2527</td>\n",
              "      <td>No</td>\n",
              "    </tr>\n",
              "    <tr>\n",
              "      <th>4</th>\n",
              "      <td>560AADE4-1A81-443D-ADBA-412DCEF4899A</td>\n",
              "      <td>3/10/2015 4:00 AM</td>\n",
              "      <td>Ginkgo biloba - maidenhair tree</td>\n",
              "      <td>BD79972E-A3AE-4020-A5FF-3286AAFA8C01</td>\n",
              "      <td>Unauthorized Tree Removal</td>\n",
              "      <td>3-1-1 Call Center</td>\n",
              "      <td>Work Completed</td>\n",
              "      <td>3/6/2015 5:00 AM</td>\n",
              "      <td>2015.0</td>\n",
              "      <td>3/13/2015 4:00 AM</td>\n",
              "      <td>0.0</td>\n",
              "      <td>F0583608-5B94-4AC8-8800-F2CEE3410312</td>\n",
              "      <td>3/9/2015 4:00 AM</td>\n",
              "      <td>Level 1</td>\n",
              "      <td>Closed</td>\n",
              "      <td>Critical</td>\n",
              "      <td>2.0</td>\n",
              "      <td>Full</td>\n",
              "      <td>No</td>\n",
              "      <td>243A4BA3-EC85-47FA-80BF-C59BAC177CB6</td>\n",
              "      <td>Tree Down</td>\n",
              "      <td>NaN</td>\n",
              "      <td>NaN</td>\n",
              "      <td>NaN</td>\n",
              "      <td>NaN</td>\n",
              "      <td>NaN</td>\n",
              "      <td>NaN</td>\n",
              "      <td>NaN</td>\n",
              "      <td>NaN</td>\n",
              "      <td>NaN</td>\n",
              "      <td>No</td>\n",
              "      <td>Brooklyn</td>\n",
              "      <td>307</td>\n",
              "      <td>38.0</td>\n",
              "      <td>187</td>\n",
              "      <td>18 STREET</td>\n",
              "      <td>Street</td>\n",
              "      <td>0xD7080000010C80416D80B9172E410086A0D3C91F0641</td>\n",
              "      <td>9.860768e+05</td>\n",
              "      <td>181241.2283</td>\n",
              "      <td>No</td>\n",
              "    </tr>\n",
              "  </tbody>\n",
              "</table>\n",
              "</div>"
            ],
            "text/plain": [
              "                          Tree_GlobalID  ... FailedDuringStorm\n",
              "0  37195E1A-A7EE-4AA4-8389-19A0ED5C46F7  ...                No\n",
              "1  8717EC83-F165-495A-A1AA-1064173A681F  ...                No\n",
              "2  F763D1C0-3020-434A-AD05-F61D69CEC648  ...                No\n",
              "3  925EB161-3E0B-4F73-B45A-257B03DAF1E0  ...                No\n",
              "4  560AADE4-1A81-443D-ADBA-412DCEF4899A  ...                No\n",
              "\n",
              "[5 rows x 41 columns]"
            ]
          },
          "metadata": {},
          "execution_count": 38
        }
      ]
    },
    {
      "cell_type": "code",
      "metadata": {
        "colab": {
          "base_uri": "https://localhost:8080/"
        },
        "id": "dkTLdw0M_vvV",
        "outputId": "813190dc-fbdc-44b8-c59b-3cf3a7e23caa"
      },
      "source": [
        "df_failedtrees.shape"
      ],
      "execution_count": 39,
      "outputs": [
        {
          "output_type": "execute_result",
          "data": {
            "text/plain": [
              "(9612, 41)"
            ]
          },
          "metadata": {},
          "execution_count": 39
        }
      ]
    },
    {
      "cell_type": "code",
      "metadata": {
        "colab": {
          "base_uri": "https://localhost:8080/"
        },
        "id": "CE8EOpp3AMW0",
        "outputId": "40d44c26-0f49-448b-d4b9-da5a5c47e28b"
      },
      "source": [
        "df_failedtrees['Tree_GlobalID'].nunique()"
      ],
      "execution_count": 40,
      "outputs": [
        {
          "output_type": "execute_result",
          "data": {
            "text/plain": [
              "9612"
            ]
          },
          "metadata": {},
          "execution_count": 40
        }
      ]
    }
  ]
}